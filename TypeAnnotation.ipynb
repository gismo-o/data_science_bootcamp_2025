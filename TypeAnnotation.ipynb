{
 "cells": [
  {
   "cell_type": "code",
   "execution_count": 1,
   "id": "1c29cfff",
   "metadata": {},
   "outputs": [],
   "source": [
    "name = \"ilayda\""
   ]
  },
  {
   "cell_type": "code",
   "execution_count": 2,
   "id": "43557bda",
   "metadata": {},
   "outputs": [
    {
     "data": {
      "text/plain": [
       "str"
      ]
     },
     "execution_count": 2,
     "metadata": {},
     "output_type": "execute_result"
    }
   ],
   "source": [
    "type(name)"
   ]
  },
  {
   "cell_type": "code",
   "execution_count": 3,
   "id": "99da2d68",
   "metadata": {},
   "outputs": [],
   "source": [
    "name: str = \"ilayda\""
   ]
  },
  {
   "cell_type": "code",
   "execution_count": 4,
   "id": "034ebf38",
   "metadata": {},
   "outputs": [
    {
     "data": {
      "text/plain": [
       "str"
      ]
     },
     "execution_count": 4,
     "metadata": {},
     "output_type": "execute_result"
    }
   ],
   "source": [
    "type(name)"
   ]
  },
  {
   "cell_type": "code",
   "execution_count": 5,
   "id": "ea128188",
   "metadata": {},
   "outputs": [],
   "source": [
    "surname: str = 20"
   ]
  },
  {
   "cell_type": "code",
   "execution_count": 6,
   "id": "c2522c98",
   "metadata": {},
   "outputs": [
    {
     "data": {
      "text/plain": [
       "int"
      ]
     },
     "execution_count": 6,
     "metadata": {},
     "output_type": "execute_result"
    }
   ],
   "source": [
    "type(surname)"
   ]
  },
  {
   "cell_type": "code",
   "execution_count": 7,
   "id": "60648e9e",
   "metadata": {},
   "outputs": [],
   "source": [
    "# kod okunabilirliğini düzenli hale getirmek için biz başta type'ını belirttik\n",
    "# kodu hiçbir şekilde etkilemez"
   ]
  },
  {
   "cell_type": "code",
   "execution_count": 8,
   "id": "1df46aa5",
   "metadata": {},
   "outputs": [],
   "source": [
    "def add_numbers(a: int, b: int) -> int: #hangi değerleri alıyor ve geriye ne döndürüyor\n",
    "    return a + b"
   ]
  },
  {
   "cell_type": "code",
   "execution_count": 9,
   "id": "30caae0d",
   "metadata": {},
   "outputs": [
    {
     "data": {
      "text/plain": [
       "9"
      ]
     },
     "execution_count": 9,
     "metadata": {},
     "output_type": "execute_result"
    }
   ],
   "source": [
    "add_numbers(4,5)"
   ]
  },
  {
   "cell_type": "code",
   "execution_count": 10,
   "id": "4aece3c1",
   "metadata": {},
   "outputs": [],
   "source": [
    "def process_value (value: int | str) -> str:\n",
    "#değer ya int ya str olacak: int | str\n",
    "    if isinstance (value,int): #value, int sınıfından mı kontrolü !!!\n",
    "        return f\"processed integer: {value}\"\n",
    "    else:\n",
    "        return f\"processed string: {value}\""
   ]
  },
  {
   "cell_type": "code",
   "execution_count": 11,
   "id": "507b140f",
   "metadata": {},
   "outputs": [
    {
     "data": {
      "text/plain": [
       "'processed integer: 50'"
      ]
     },
     "execution_count": 11,
     "metadata": {},
     "output_type": "execute_result"
    }
   ],
   "source": [
    "process_value(50)"
   ]
  },
  {
   "cell_type": "code",
   "execution_count": 12,
   "id": "4ea8f0fb",
   "metadata": {},
   "outputs": [
    {
     "data": {
      "text/plain": [
       "'processed string: denemedeneme'"
      ]
     },
     "execution_count": 12,
     "metadata": {},
     "output_type": "execute_result"
    }
   ],
   "source": [
    "process_value(\"denemedeneme\")"
   ]
  },
  {
   "cell_type": "code",
   "execution_count": 13,
   "id": "104e19a0",
   "metadata": {},
   "outputs": [],
   "source": [
    "from typing import List\n",
    "def sum_list(numbers: List [int]) -> int:\n",
    "    return sum(numbers)"
   ]
  },
  {
   "cell_type": "code",
   "execution_count": 14,
   "id": "ce88663f",
   "metadata": {},
   "outputs": [
    {
     "data": {
      "text/plain": [
       "1880"
      ]
     },
     "execution_count": 14,
     "metadata": {},
     "output_type": "execute_result"
    }
   ],
   "source": [
    "numbers= [999,876,4,1]\n",
    "sum_list(numbers)"
   ]
  }
 ],
 "metadata": {
  "kernelspec": {
   "display_name": "Python 3.10",
   "language": "python",
   "name": "python310"
  },
  "language_info": {
   "codemirror_mode": {
    "name": "ipython",
    "version": 3
   },
   "file_extension": ".py",
   "mimetype": "text/x-python",
   "name": "python",
   "nbconvert_exporter": "python",
   "pygments_lexer": "ipython3",
   "version": "3.10.0"
  }
 },
 "nbformat": 4,
 "nbformat_minor": 5
}
