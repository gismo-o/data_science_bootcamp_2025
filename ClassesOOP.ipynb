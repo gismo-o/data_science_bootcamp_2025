{
 "cells": [
  {
   "cell_type": "code",
   "execution_count": 1,
   "id": "441aeebd",
   "metadata": {},
   "outputs": [],
   "source": [
    "gizemName = \"Gizem\""
   ]
  },
  {
   "cell_type": "code",
   "execution_count": 2,
   "id": "00d4b464",
   "metadata": {},
   "outputs": [],
   "source": [
    "gizemAge=90"
   ]
  },
  {
   "cell_type": "code",
   "execution_count": 3,
   "id": "d69ce917",
   "metadata": {},
   "outputs": [],
   "source": [
    "gizemGender = \"Female\""
   ]
  },
  {
   "cell_type": "code",
   "execution_count": 4,
   "id": "ca6d8f51",
   "metadata": {},
   "outputs": [],
   "source": [
    "ilaydaName=\"İlayda\""
   ]
  },
  {
   "cell_type": "code",
   "execution_count": 5,
   "id": "c0afe997",
   "metadata": {},
   "outputs": [],
   "source": [
    "# bu kısım çok gereksiz ve verimsiz. bir plan oluşturmamız ve verimli hale getirmemiz gerekir"
   ]
  },
  {
   "cell_type": "code",
   "execution_count": 27,
   "id": "8dfefbe9",
   "metadata": {},
   "outputs": [],
   "source": [
    "class Person(): #sınıf adı genelde büyük harfle yazılır\n",
    "    name= \"\"\n",
    "    age= 0\n",
    "    \n",
    "    #sınıf içindeki fonksiyonlara METOT deriz\n",
    "    #initializer : ilk değerini atamak\n",
    "    def __init__(self): \n",
    "        print(\"init executed\")"
   ]
  },
  {
   "cell_type": "code",
   "execution_count": 28,
   "id": "195188d2",
   "metadata": {},
   "outputs": [],
   "source": [
    "myList = list()"
   ]
  },
  {
   "cell_type": "code",
   "execution_count": 29,
   "id": "2cc4dedc",
   "metadata": {},
   "outputs": [
    {
     "data": {
      "text/plain": [
       "list"
      ]
     },
     "execution_count": 29,
     "metadata": {},
     "output_type": "execute_result"
    }
   ],
   "source": [
    "type(myList)"
   ]
  },
  {
   "cell_type": "code",
   "execution_count": 30,
   "id": "b119ee60",
   "metadata": {},
   "outputs": [
    {
     "name": "stdout",
     "output_type": "stream",
     "text": [
      "init executed\n"
     ]
    }
   ],
   "source": [
    "#gizem = Person()"
   ]
  },
  {
   "cell_type": "code",
   "execution_count": 31,
   "id": "bd7ca1b5",
   "metadata": {},
   "outputs": [
    {
     "data": {
      "text/plain": [
       "__main__.Person"
      ]
     },
     "execution_count": 31,
     "metadata": {},
     "output_type": "execute_result"
    }
   ],
   "source": [
    "#type(gizem)"
   ]
  },
  {
   "cell_type": "code",
   "execution_count": 32,
   "id": "5642d629",
   "metadata": {},
   "outputs": [],
   "source": [
    "#gizem.age= 26"
   ]
  },
  {
   "cell_type": "code",
   "execution_count": 33,
   "id": "bb343eb9",
   "metadata": {},
   "outputs": [
    {
     "data": {
      "text/plain": [
       "26"
      ]
     },
     "execution_count": 33,
     "metadata": {},
     "output_type": "execute_result"
    }
   ],
   "source": [
    "#gizem.age"
   ]
  },
  {
   "cell_type": "code",
   "execution_count": 34,
   "id": "300142ed",
   "metadata": {},
   "outputs": [],
   "source": [
    "#gizem.name=\"Gizem İlayda\""
   ]
  },
  {
   "cell_type": "code",
   "execution_count": 35,
   "id": "bbe26860",
   "metadata": {},
   "outputs": [
    {
     "data": {
      "text/plain": [
       "'Gizem İlayda'"
      ]
     },
     "execution_count": 35,
     "metadata": {},
     "output_type": "execute_result"
    }
   ],
   "source": [
    "#gizem.name"
   ]
  },
  {
   "cell_type": "code",
   "execution_count": 59,
   "id": "d4e72c69",
   "metadata": {},
   "outputs": [],
   "source": [
    "class Person(): #sınıf adı genelde büyük harfle yazılır\n",
    "    #property (özellikler. bunları yazmasak da olur)\n",
    "    #name= \"\"\n",
    "    #age= 0\n",
    "    job=\"\" #zorunlu tutmak istemediğim özellikleri buraya yazabilirim\n",
    "    \n",
    "    \n",
    "    #sınıf içindeki fonksiyonlara METOT deriz\n",
    "    #initializer : ilk değerini atamak\n",
    "    def __init__(self,name,age,gender): \n",
    "        #self -> sınıfın kendisine reerans verir\n",
    "        self.name = name\n",
    "        self.age = age\n",
    "        self.gender = gender"
   ]
  },
  {
   "cell_type": "code",
   "execution_count": 60,
   "id": "8a9adfb3",
   "metadata": {},
   "outputs": [],
   "source": [
    "gizem = Person(\"Gizem\", \"26\", \"Female\")"
   ]
  },
  {
   "cell_type": "code",
   "execution_count": 61,
   "id": "82a0f84c",
   "metadata": {},
   "outputs": [
    {
     "data": {
      "text/plain": [
       "__main__.Person"
      ]
     },
     "execution_count": 61,
     "metadata": {},
     "output_type": "execute_result"
    }
   ],
   "source": [
    "type(gizem)"
   ]
  },
  {
   "cell_type": "code",
   "execution_count": 62,
   "id": "2efc33da",
   "metadata": {},
   "outputs": [
    {
     "data": {
      "text/plain": [
       "'Gizem'"
      ]
     },
     "execution_count": 62,
     "metadata": {},
     "output_type": "execute_result"
    }
   ],
   "source": [
    "gizem.name"
   ]
  },
  {
   "cell_type": "code",
   "execution_count": 63,
   "id": "3a7bf0b7",
   "metadata": {},
   "outputs": [
    {
     "data": {
      "text/plain": [
       "'26'"
      ]
     },
     "execution_count": 63,
     "metadata": {},
     "output_type": "execute_result"
    }
   ],
   "source": [
    "gizem.age"
   ]
  },
  {
   "cell_type": "code",
   "execution_count": 64,
   "id": "ee272ad8",
   "metadata": {},
   "outputs": [
    {
     "data": {
      "text/plain": [
       "'Female'"
      ]
     },
     "execution_count": 64,
     "metadata": {},
     "output_type": "execute_result"
    }
   ],
   "source": [
    "gizem.gender"
   ]
  },
  {
   "cell_type": "code",
   "execution_count": 65,
   "id": "0706c814",
   "metadata": {},
   "outputs": [
    {
     "data": {
      "text/plain": [
       "''"
      ]
     },
     "execution_count": 65,
     "metadata": {},
     "output_type": "execute_result"
    }
   ],
   "source": [
    "gizem.job #default"
   ]
  },
  {
   "cell_type": "code",
   "execution_count": 66,
   "id": "847e73c9",
   "metadata": {},
   "outputs": [],
   "source": [
    "gizem.job=\"developer\""
   ]
  },
  {
   "cell_type": "code",
   "execution_count": 67,
   "id": "b3ebecb9",
   "metadata": {},
   "outputs": [
    {
     "data": {
      "text/plain": [
       "'developer'"
      ]
     },
     "execution_count": 67,
     "metadata": {},
     "output_type": "execute_result"
    }
   ],
   "source": [
    "gizem.job"
   ]
  },
  {
   "cell_type": "code",
   "execution_count": 71,
   "id": "88ec4035",
   "metadata": {},
   "outputs": [],
   "source": [
    "class Dog():\n",
    "    \n",
    "    year=7\n",
    "    \n",
    "    def __init__(self,age):\n",
    "        self.age=age\n",
    "        \n",
    "    def humanAge(self):\n",
    "        return self.age * self.year"
   ]
  },
  {
   "cell_type": "code",
   "execution_count": 72,
   "id": "df4da6ac",
   "metadata": {},
   "outputs": [],
   "source": [
    "myDog=Dog(3)"
   ]
  },
  {
   "cell_type": "code",
   "execution_count": 73,
   "id": "7b911a4e",
   "metadata": {},
   "outputs": [
    {
     "data": {
      "text/plain": [
       "3"
      ]
     },
     "execution_count": 73,
     "metadata": {},
     "output_type": "execute_result"
    }
   ],
   "source": [
    "myDog.age"
   ]
  },
  {
   "cell_type": "code",
   "execution_count": 75,
   "id": "90a4e45b",
   "metadata": {},
   "outputs": [
    {
     "data": {
      "text/plain": [
       "21"
      ]
     },
     "execution_count": 75,
     "metadata": {},
     "output_type": "execute_result"
    }
   ],
   "source": [
    "myDog.humanAge()"
   ]
  },
  {
   "cell_type": "code",
   "execution_count": 81,
   "id": "cf468181",
   "metadata": {},
   "outputs": [],
   "source": [
    "#Dog.year->self.year\n",
    "\n",
    "class Dog():\n",
    "    \n",
    "    year=7\n",
    "    \n",
    "    def __init__(self,age):\n",
    "        self.age=age\n",
    "        \n",
    "    def humanAge(self):\n",
    "        return self.age * Dog.year "
   ]
  },
  {
   "cell_type": "code",
   "execution_count": 82,
   "id": "78d557fc",
   "metadata": {},
   "outputs": [],
   "source": [
    "myDog2=Dog(5)"
   ]
  },
  {
   "cell_type": "code",
   "execution_count": 83,
   "id": "d1338999",
   "metadata": {},
   "outputs": [
    {
     "data": {
      "text/plain": [
       "5"
      ]
     },
     "execution_count": 83,
     "metadata": {},
     "output_type": "execute_result"
    }
   ],
   "source": [
    "myDog2.age"
   ]
  },
  {
   "cell_type": "code",
   "execution_count": 84,
   "id": "d642130b",
   "metadata": {},
   "outputs": [
    {
     "data": {
      "text/plain": [
       "35"
      ]
     },
     "execution_count": 84,
     "metadata": {},
     "output_type": "execute_result"
    }
   ],
   "source": [
    "myDog2.humanAge()"
   ]
  },
  {
   "cell_type": "code",
   "execution_count": 85,
   "id": "425a13da",
   "metadata": {},
   "outputs": [],
   "source": [
    "# 2. YOL"
   ]
  },
  {
   "cell_type": "code",
   "execution_count": 91,
   "id": "09f730e2",
   "metadata": {},
   "outputs": [],
   "source": [
    "class Dog():\n",
    "    year=7\n",
    "    \n",
    "    def __init__(self,age):\n",
    "        self.age=age\n",
    "        self.dogHumanAge=age*self.year\n",
    "        print(\"dog instance\")\n",
    "        \n",
    "    def humanAge(self):\n",
    "        return self.age * Dog.year"
   ]
  },
  {
   "cell_type": "code",
   "execution_count": 92,
   "id": "4d13ac3f",
   "metadata": {},
   "outputs": [
    {
     "name": "stdout",
     "output_type": "stream",
     "text": [
      "dog instance\n"
     ]
    }
   ],
   "source": [
    "myDog3=Dog(1)"
   ]
  },
  {
   "cell_type": "code",
   "execution_count": 93,
   "id": "df031a86",
   "metadata": {},
   "outputs": [
    {
     "data": {
      "text/plain": [
       "1"
      ]
     },
     "execution_count": 93,
     "metadata": {},
     "output_type": "execute_result"
    }
   ],
   "source": [
    "myDog3.age"
   ]
  },
  {
   "cell_type": "code",
   "execution_count": 95,
   "id": "4c8286c3",
   "metadata": {},
   "outputs": [
    {
     "data": {
      "text/plain": [
       "7"
      ]
     },
     "execution_count": 95,
     "metadata": {},
     "output_type": "execute_result"
    }
   ],
   "source": [
    "myDog3.dogHumanAge"
   ]
  },
  {
   "cell_type": "code",
   "execution_count": 96,
   "id": "e2eb8528",
   "metadata": {},
   "outputs": [
    {
     "data": {
      "text/plain": [
       "7"
      ]
     },
     "execution_count": 96,
     "metadata": {},
     "output_type": "execute_result"
    }
   ],
   "source": [
    "myDog3.humanAge()"
   ]
  },
  {
   "cell_type": "code",
   "execution_count": null,
   "id": "8dbd81df",
   "metadata": {},
   "outputs": [],
   "source": []
  }
 ],
 "metadata": {
  "kernelspec": {
   "display_name": "Python 3",
   "language": "python",
   "name": "python3"
  },
  "language_info": {
   "codemirror_mode": {
    "name": "ipython",
    "version": 3
   },
   "file_extension": ".py",
   "mimetype": "text/x-python",
   "name": "python",
   "nbconvert_exporter": "python",
   "pygments_lexer": "ipython3",
   "version": "3.8.8"
  }
 },
 "nbformat": 4,
 "nbformat_minor": 5
}
