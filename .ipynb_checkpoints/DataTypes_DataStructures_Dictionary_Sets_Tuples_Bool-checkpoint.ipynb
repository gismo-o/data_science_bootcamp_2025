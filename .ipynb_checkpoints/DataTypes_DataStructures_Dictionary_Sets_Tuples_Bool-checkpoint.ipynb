{
 "cells": [
  {
   "cell_type": "code",
   "execution_count": 1,
   "id": "c10da970",
   "metadata": {},
   "outputs": [
    {
     "data": {
      "text/plain": [
       "8"
      ]
     },
     "execution_count": 1,
     "metadata": {},
     "output_type": "execute_result"
    }
   ],
   "source": [
    "3+5"
   ]
  },
  {
   "cell_type": "code",
   "execution_count": 2,
   "id": "8d501b82",
   "metadata": {},
   "outputs": [
    {
     "data": {
      "text/plain": [
       "12"
      ]
     },
     "execution_count": 2,
     "metadata": {},
     "output_type": "execute_result"
    }
   ],
   "source": [
    "4 * 3"
   ]
  },
  {
   "cell_type": "markdown",
   "id": "a6d7ac97",
   "metadata": {},
   "source": [
    "# NUMBERS"
   ]
  },
  {
   "cell_type": "code",
   "execution_count": 3,
   "id": "25bc1a73",
   "metadata": {},
   "outputs": [
    {
     "data": {
      "text/plain": [
       "225.0"
      ]
     },
     "execution_count": 3,
     "metadata": {},
     "output_type": "execute_result"
    }
   ],
   "source": [
    "900/4"
   ]
  },
  {
   "cell_type": "code",
   "execution_count": 4,
   "id": "a1d114f6",
   "metadata": {},
   "outputs": [
    {
     "data": {
      "text/plain": [
       "128.57142857142858"
      ]
     },
     "execution_count": 4,
     "metadata": {},
     "output_type": "execute_result"
    }
   ],
   "source": [
    "900/7"
   ]
  },
  {
   "cell_type": "code",
   "execution_count": 5,
   "id": "ee5e838f",
   "metadata": {},
   "outputs": [],
   "source": [
    "age=50"
   ]
  },
  {
   "cell_type": "code",
   "execution_count": 6,
   "id": "e518e574",
   "metadata": {},
   "outputs": [
    {
     "data": {
      "text/plain": [
       "250"
      ]
     },
     "execution_count": 6,
     "metadata": {},
     "output_type": "execute_result"
    }
   ],
   "source": [
    "age*5"
   ]
  },
  {
   "cell_type": "code",
   "execution_count": null,
   "id": "ccea5da3",
   "metadata": {},
   "outputs": [],
   "source": [
    "#data type"
   ]
  },
  {
   "cell_type": "code",
   "execution_count": 11,
   "id": "9ab54382",
   "metadata": {},
   "outputs": [
    {
     "data": {
      "text/plain": [
       "int"
      ]
     },
     "execution_count": 11,
     "metadata": {},
     "output_type": "execute_result"
    }
   ],
   "source": [
    "type(10)\n",
    "type(age*5)"
   ]
  },
  {
   "cell_type": "code",
   "execution_count": 15,
   "id": "57bb0323",
   "metadata": {},
   "outputs": [
    {
     "data": {
      "text/plain": [
       "float"
      ]
     },
     "execution_count": 15,
     "metadata": {},
     "output_type": "execute_result"
    }
   ],
   "source": [
    "pi=3.14\n",
    "type(pi*2) #ondalıklı"
   ]
  },
  {
   "cell_type": "code",
   "execution_count": 16,
   "id": "5a224b2f",
   "metadata": {},
   "outputs": [],
   "source": [
    "#camelCase \n",
    "#snake_case"
   ]
  },
  {
   "cell_type": "code",
   "execution_count": 19,
   "id": "a5398c3f",
   "metadata": {},
   "outputs": [
    {
     "name": "stdout",
     "output_type": "stream",
     "text": [
      "10.0\n"
     ]
    },
    {
     "data": {
      "text/plain": [
       "float"
      ]
     },
     "execution_count": 19,
     "metadata": {},
     "output_type": "execute_result"
    }
   ],
   "source": [
    "print(40/4)\n",
    "type(40/4)"
   ]
  },
  {
   "cell_type": "code",
   "execution_count": 20,
   "id": "60322c5b",
   "metadata": {},
   "outputs": [
    {
     "name": "stdout",
     "output_type": "stream",
     "text": [
      "2.0\n"
     ]
    },
    {
     "data": {
      "text/plain": [
       "float"
      ]
     },
     "execution_count": 20,
     "metadata": {},
     "output_type": "execute_result"
    }
   ],
   "source": [
    "print(4.0-2)\n",
    "type(4.0-2)"
   ]
  },
  {
   "cell_type": "code",
   "execution_count": 21,
   "id": "2fc51fa5",
   "metadata": {},
   "outputs": [
    {
     "data": {
      "text/plain": [
       "float"
      ]
     },
     "execution_count": 21,
     "metadata": {},
     "output_type": "execute_result"
    }
   ],
   "source": [
    "type(4.0*5)"
   ]
  },
  {
   "cell_type": "code",
   "execution_count": 22,
   "id": "d9215228",
   "metadata": {},
   "outputs": [
    {
     "data": {
      "text/plain": [
       "int"
      ]
     },
     "execution_count": 22,
     "metadata": {},
     "output_type": "execute_result"
    }
   ],
   "source": [
    "type(4*5)"
   ]
  },
  {
   "cell_type": "code",
   "execution_count": 24,
   "id": "2947eae0",
   "metadata": {},
   "outputs": [
    {
     "data": {
      "text/plain": [
       "32"
      ]
     },
     "execution_count": 24,
     "metadata": {},
     "output_type": "execute_result"
    }
   ],
   "source": [
    "2**5 #2 üzeri 5. **--->üstü alma işlemi"
   ]
  },
  {
   "cell_type": "code",
   "execution_count": 27,
   "id": "3a0b3f5f",
   "metadata": {},
   "outputs": [
    {
     "data": {
      "text/plain": [
       "2"
      ]
     },
     "execution_count": 27,
     "metadata": {},
     "output_type": "execute_result"
    }
   ],
   "source": [
    "2%5 #mod alam işlemi. kalanı bulur.remainder"
   ]
  },
  {
   "cell_type": "markdown",
   "id": "23327372",
   "metadata": {},
   "source": [
    "# STRINGS"
   ]
  },
  {
   "cell_type": "code",
   "execution_count": 29,
   "id": "e5a01435",
   "metadata": {},
   "outputs": [
    {
     "name": "stdout",
     "output_type": "stream",
     "text": [
      "GİZEM <3\n"
     ]
    }
   ],
   "source": [
    "name= \"GİZEM <3\"\n",
    "print(name)"
   ]
  },
  {
   "cell_type": "code",
   "execution_count": 30,
   "id": "6e5c1b3e",
   "metadata": {},
   "outputs": [
    {
     "data": {
      "text/plain": [
       "str"
      ]
     },
     "execution_count": 30,
     "metadata": {},
     "output_type": "execute_result"
    }
   ],
   "source": [
    "type(name)"
   ]
  },
  {
   "cell_type": "code",
   "execution_count": 31,
   "id": "ae283c48",
   "metadata": {},
   "outputs": [
    {
     "data": {
      "text/plain": [
       "'Gi̇zem <3'"
      ]
     },
     "execution_count": 31,
     "metadata": {},
     "output_type": "execute_result"
    }
   ],
   "source": [
    "name.capitalize() #ilk harfi büyük yaz"
   ]
  },
  {
   "cell_type": "code",
   "execution_count": 35,
   "id": "d3a8f6ee",
   "metadata": {},
   "outputs": [
    {
     "name": "stdout",
     "output_type": "stream",
     "text": [
      "Help on built-in function count:\n",
      "\n",
      "count(...) method of builtins.str instance\n",
      "    S.count(sub[, start[, end]]) -> int\n",
      "    \n",
      "    Return the number of non-overlapping occurrences of substring sub in\n",
      "    string S[start:end].  Optional arguments start and end are\n",
      "    interpreted as in slice notation.\n",
      "\n"
     ]
    },
    {
     "data": {
      "text/plain": [
       "1"
      ]
     },
     "execution_count": 35,
     "metadata": {},
     "output_type": "execute_result"
    }
   ],
   "source": [
    "help(name.count)\n",
    "name.count(\"Z\")"
   ]
  },
  {
   "cell_type": "code",
   "execution_count": 36,
   "id": "461b08cc",
   "metadata": {},
   "outputs": [
    {
     "data": {
      "text/plain": [
       "'GİZEM <3'"
      ]
     },
     "execution_count": 36,
     "metadata": {},
     "output_type": "execute_result"
    }
   ],
   "source": [
    "name.upper() #bütün harfleri büyült"
   ]
  },
  {
   "cell_type": "code",
   "execution_count": 38,
   "id": "d0e8c360",
   "metadata": {},
   "outputs": [
    {
     "data": {
      "text/plain": [
       "'Gi̇zem <3'"
      ]
     },
     "execution_count": 38,
     "metadata": {},
     "output_type": "execute_result"
    }
   ],
   "source": [
    "nameCapt=name.capitalize()\n",
    "nameCapt"
   ]
  },
  {
   "cell_type": "code",
   "execution_count": 40,
   "id": "90e067bf",
   "metadata": {},
   "outputs": [
    {
     "data": {
      "text/plain": [
       "8"
      ]
     },
     "execution_count": 40,
     "metadata": {},
     "output_type": "execute_result"
    }
   ],
   "source": [
    "len(name) #length"
   ]
  },
  {
   "cell_type": "code",
   "execution_count": 43,
   "id": "c83f9fec",
   "metadata": {},
   "outputs": [
    {
     "name": "stdout",
     "output_type": "stream",
     "text": [
      "gizem \n",
      "ilayda\n",
      "gizem \tilayda\n"
     ]
    }
   ],
   "source": [
    "print(\"gizem \\nilayda\") #alt satıra geç\n",
    "print(\"gizem \\tilayda\") #bir tab boşluk bırak"
   ]
  },
  {
   "cell_type": "markdown",
   "id": "8da8e833",
   "metadata": {},
   "source": [
    "# INDEX"
   ]
  },
  {
   "cell_type": "code",
   "execution_count": 44,
   "id": "14174153",
   "metadata": {},
   "outputs": [
    {
     "data": {
      "text/plain": [
       "'i'"
      ]
     },
     "execution_count": 44,
     "metadata": {},
     "output_type": "execute_result"
    }
   ],
   "source": [
    "myString=\"bilgi güçtür\"\n",
    "myString[4]"
   ]
  },
  {
   "cell_type": "code",
   "execution_count": 45,
   "id": "099709b3",
   "metadata": {},
   "outputs": [
    {
     "data": {
      "text/plain": [
       "12"
      ]
     },
     "execution_count": 45,
     "metadata": {},
     "output_type": "execute_result"
    }
   ],
   "source": [
    "len(myString)"
   ]
  },
  {
   "cell_type": "code",
   "execution_count": 46,
   "id": "967badf2",
   "metadata": {},
   "outputs": [
    {
     "data": {
      "text/plain": [
       "11"
      ]
     },
     "execution_count": 46,
     "metadata": {},
     "output_type": "execute_result"
    }
   ],
   "source": [
    "len(myString)-1"
   ]
  },
  {
   "cell_type": "code",
   "execution_count": 47,
   "id": "7cf1a001",
   "metadata": {},
   "outputs": [
    {
     "data": {
      "text/plain": [
       "'r'"
      ]
     },
     "execution_count": 47,
     "metadata": {},
     "output_type": "execute_result"
    }
   ],
   "source": [
    "myString[len(myString)-1]"
   ]
  },
  {
   "cell_type": "code",
   "execution_count": 48,
   "id": "53ea1d64",
   "metadata": {},
   "outputs": [
    {
     "data": {
      "text/plain": [
       "'r'"
      ]
     },
     "execution_count": 48,
     "metadata": {},
     "output_type": "execute_result"
    }
   ],
   "source": [
    "myString[-1]"
   ]
  },
  {
   "cell_type": "code",
   "execution_count": 52,
   "id": "e65e1585",
   "metadata": {},
   "outputs": [
    {
     "name": "stdout",
     "output_type": "stream",
     "text": [
      "bilgi güçtür\n",
      "bilgi güçtürbilgi güçtür\n"
     ]
    }
   ],
   "source": [
    "#string birleştirme\n",
    "ilk_kelime=\"bilgi\"\n",
    "ikinci_kelime=\"güçtür\"\n",
    "birlestir=ilk_kelime+\" \"+ ikinci_kelime\n",
    "print(birlestir)\n",
    "print(birlestir*2)"
   ]
  },
  {
   "cell_type": "code",
   "execution_count": 53,
   "id": "bd833835",
   "metadata": {},
   "outputs": [],
   "source": [
    "#slicing,starting index,stopping index, stepping size"
   ]
  },
  {
   "cell_type": "code",
   "execution_count": 56,
   "id": "73b36792",
   "metadata": {},
   "outputs": [
    {
     "data": {
      "text/plain": [
       "'ABCDE123456789'"
      ]
     },
     "execution_count": 56,
     "metadata": {},
     "output_type": "execute_result"
    }
   ],
   "source": [
    "barcode=\"ABCDE123456789\"\n",
    "barcode"
   ]
  },
  {
   "cell_type": "code",
   "execution_count": 57,
   "id": "88fc5e86",
   "metadata": {},
   "outputs": [],
   "source": [
    "#barcode[starting index:stopping index:stepping index]\n",
    "        #hangi indexten başlanacağı, nerde durulacağı, kaç kaç ilerleyeceği"
   ]
  },
  {
   "cell_type": "code",
   "execution_count": 58,
   "id": "ad15f1fe",
   "metadata": {},
   "outputs": [
    {
     "data": {
      "text/plain": [
       "'CE2'"
      ]
     },
     "execution_count": 58,
     "metadata": {},
     "output_type": "execute_result"
    }
   ],
   "source": [
    "barcode[2:7:2]"
   ]
  },
  {
   "cell_type": "code",
   "execution_count": 60,
   "id": "06eb3530",
   "metadata": {},
   "outputs": [
    {
     "data": {
      "text/plain": [
       "'DE123456789'"
      ]
     },
     "execution_count": 60,
     "metadata": {},
     "output_type": "execute_result"
    }
   ],
   "source": [
    "barcode[3::] #ilk 3 indexi devre dışı bıraktık"
   ]
  },
  {
   "cell_type": "code",
   "execution_count": 61,
   "id": "5f229f0d",
   "metadata": {},
   "outputs": [
    {
     "data": {
      "text/plain": [
       "'ABCDE'"
      ]
     },
     "execution_count": 61,
     "metadata": {},
     "output_type": "execute_result"
    }
   ],
   "source": [
    "barcode[:5:]"
   ]
  },
  {
   "cell_type": "code",
   "execution_count": 62,
   "id": "74e44bf4",
   "metadata": {},
   "outputs": [
    {
     "data": {
      "text/plain": [
       "'A16'"
      ]
     },
     "execution_count": 62,
     "metadata": {},
     "output_type": "execute_result"
    }
   ],
   "source": [
    "barcode[::5]"
   ]
  },
  {
   "cell_type": "code",
   "execution_count": 68,
   "id": "cb58e8c7",
   "metadata": {},
   "outputs": [
    {
     "data": {
      "text/plain": [
       "'12'"
      ]
     },
     "execution_count": 68,
     "metadata": {},
     "output_type": "execute_result"
    }
   ],
   "source": [
    "barcode[5:7:]"
   ]
  },
  {
   "cell_type": "code",
   "execution_count": 69,
   "id": "aa829fb5",
   "metadata": {},
   "outputs": [
    {
     "data": {
      "text/plain": [
       "'987654321EDCBA'"
      ]
     },
     "execution_count": 69,
     "metadata": {},
     "output_type": "execute_result"
    }
   ],
   "source": [
    "barcode[::-1] #ters çevirir"
   ]
  },
  {
   "cell_type": "code",
   "execution_count": 74,
   "id": "d49e5bc6",
   "metadata": {},
   "outputs": [
    {
     "data": {
      "text/plain": [
       "list"
      ]
     },
     "execution_count": 74,
     "metadata": {},
     "output_type": "execute_result"
    }
   ],
   "source": [
    "nameSurname=\"gizem koz\"\n",
    "type(nameSurname.split())"
   ]
  },
  {
   "cell_type": "code",
   "execution_count": 75,
   "id": "a1753152",
   "metadata": {},
   "outputs": [],
   "source": [
    "#LIST VERİ YAPISI"
   ]
  },
  {
   "cell_type": "code",
   "execution_count": 76,
   "id": "6273be70",
   "metadata": {},
   "outputs": [
    {
     "data": {
      "text/plain": [
       "['gizem', 'koz']"
      ]
     },
     "execution_count": 76,
     "metadata": {},
     "output_type": "execute_result"
    }
   ],
   "source": [
    "nameSurname.split()"
   ]
  },
  {
   "cell_type": "code",
   "execution_count": 161,
   "id": "b22e0260",
   "metadata": {},
   "outputs": [],
   "source": [
    "#immutable - immutability (değiştirilemezlik). stringlerde tek bir harfi değiştiremeyiz\n",
    "#nameSurname[0]=\"g\" YANLIŞ!!!\n",
    "#LİSTELER İSE DEĞİŞTİRİLEBİLİR"
   ]
  },
  {
   "cell_type": "markdown",
   "id": "d0cf7072",
   "metadata": {},
   "source": [
    "# LISTS"
   ]
  },
  {
   "cell_type": "code",
   "execution_count": 81,
   "id": "a093fa2c",
   "metadata": {},
   "outputs": [
    {
     "data": {
      "text/plain": [
       "4"
      ]
     },
     "execution_count": 81,
     "metadata": {},
     "output_type": "execute_result"
    }
   ],
   "source": [
    "myList=[1,2,3,4,5]\n",
    "myList[3]"
   ]
  },
  {
   "cell_type": "code",
   "execution_count": 84,
   "id": "76c7ece2",
   "metadata": {},
   "outputs": [
    {
     "data": {
      "text/plain": [
       "[9, 2, 3, 4, 5]"
      ]
     },
     "execution_count": 84,
     "metadata": {},
     "output_type": "execute_result"
    }
   ],
   "source": [
    "myList[0]=9\n",
    "myList\n",
    "#mutable, mutability, değiştirilebilirlik. listede indexler değiştirilebilir"
   ]
  },
  {
   "cell_type": "code",
   "execution_count": 85,
   "id": "0ebaaad4",
   "metadata": {},
   "outputs": [
    {
     "data": {
      "text/plain": [
       "5"
      ]
     },
     "execution_count": 85,
     "metadata": {},
     "output_type": "execute_result"
    }
   ],
   "source": [
    "myList[-1]"
   ]
  },
  {
   "cell_type": "code",
   "execution_count": 89,
   "id": "c11a050d",
   "metadata": {},
   "outputs": [
    {
     "data": {
      "text/plain": [
       "[9, 2, 3, 4, 5, 16, 16, 16]"
      ]
     },
     "execution_count": 89,
     "metadata": {},
     "output_type": "execute_result"
    }
   ],
   "source": [
    "myList.append(16) #ekleme işlemi\n",
    "myList"
   ]
  },
  {
   "cell_type": "code",
   "execution_count": 90,
   "id": "3dc4df59",
   "metadata": {},
   "outputs": [
    {
     "data": {
      "text/plain": [
       "3"
      ]
     },
     "execution_count": 90,
     "metadata": {},
     "output_type": "execute_result"
    }
   ],
   "source": [
    "myList.count(16)"
   ]
  },
  {
   "cell_type": "code",
   "execution_count": 91,
   "id": "0c2a3c2e",
   "metadata": {},
   "outputs": [
    {
     "data": {
      "text/plain": [
       "5"
      ]
     },
     "execution_count": 91,
     "metadata": {},
     "output_type": "execute_result"
    }
   ],
   "source": [
    "myList.index(16)"
   ]
  },
  {
   "cell_type": "code",
   "execution_count": 94,
   "id": "6193ec05",
   "metadata": {},
   "outputs": [
    {
     "data": {
      "text/plain": [
       "[9, 2, 35, 35, 35, 3, 4, 5, 16, 16, 16]"
      ]
     },
     "execution_count": 94,
     "metadata": {},
     "output_type": "execute_result"
    }
   ],
   "source": [
    "myList.insert(2,35) #2.indexe 35 değerini ekle\n",
    "myList"
   ]
  },
  {
   "cell_type": "code",
   "execution_count": 97,
   "id": "87c82d6f",
   "metadata": {},
   "outputs": [
    {
     "data": {
      "text/plain": [
       "[9, 2, 3, 4, 5, 16, 16, 16]"
      ]
     },
     "execution_count": 97,
     "metadata": {},
     "output_type": "execute_result"
    }
   ],
   "source": [
    "myList.remove(35) #istediğin değeri çıkarır\n",
    "myList"
   ]
  },
  {
   "cell_type": "code",
   "execution_count": 100,
   "id": "56029ecc",
   "metadata": {},
   "outputs": [
    {
     "data": {
      "text/plain": [
       "[16, 16, 16, 5, 4, 3, 2, 9]"
      ]
     },
     "execution_count": 100,
     "metadata": {},
     "output_type": "execute_result"
    }
   ],
   "source": [
    "myList.reverse() #tersine çevir değerleri\n",
    "myList"
   ]
  },
  {
   "cell_type": "code",
   "execution_count": 101,
   "id": "68ded40d",
   "metadata": {},
   "outputs": [
    {
     "data": {
      "text/plain": [
       "[2, 3, 4, 5, 9, 16, 16, 16]"
      ]
     },
     "execution_count": 101,
     "metadata": {},
     "output_type": "execute_result"
    }
   ],
   "source": [
    "myList.sort() #küçükten büyüğe dizer\n",
    "myList"
   ]
  },
  {
   "cell_type": "code",
   "execution_count": 102,
   "id": "55678d50",
   "metadata": {},
   "outputs": [
    {
     "name": "stdout",
     "output_type": "stream",
     "text": [
      "enter x10\n"
     ]
    }
   ],
   "source": [
    "x=input(\"enter x\")"
   ]
  },
  {
   "cell_type": "code",
   "execution_count": 103,
   "id": "9163e2e1",
   "metadata": {},
   "outputs": [
    {
     "data": {
      "text/plain": [
       "'10'"
      ]
     },
     "execution_count": 103,
     "metadata": {},
     "output_type": "execute_result"
    }
   ],
   "source": [
    "x"
   ]
  },
  {
   "cell_type": "code",
   "execution_count": 104,
   "id": "a9fd1371",
   "metadata": {},
   "outputs": [
    {
     "data": {
      "text/plain": [
       "str"
      ]
     },
     "execution_count": 104,
     "metadata": {},
     "output_type": "execute_result"
    }
   ],
   "source": [
    "type(x)"
   ]
  },
  {
   "cell_type": "code",
   "execution_count": 105,
   "id": "582f3154",
   "metadata": {},
   "outputs": [
    {
     "name": "stdout",
     "output_type": "stream",
     "text": [
      "enter y20\n"
     ]
    }
   ],
   "source": [
    "y=input(\"enter y\")"
   ]
  },
  {
   "cell_type": "code",
   "execution_count": 106,
   "id": "9a70cf7c",
   "metadata": {},
   "outputs": [
    {
     "data": {
      "text/plain": [
       "'20'"
      ]
     },
     "execution_count": 106,
     "metadata": {},
     "output_type": "execute_result"
    }
   ],
   "source": [
    "y"
   ]
  },
  {
   "cell_type": "code",
   "execution_count": 107,
   "id": "1f8520b4",
   "metadata": {},
   "outputs": [
    {
     "name": "stdout",
     "output_type": "stream",
     "text": [
      "enter z30\n"
     ]
    }
   ],
   "source": [
    "z=input(\"enter z\")"
   ]
  },
  {
   "cell_type": "code",
   "execution_count": 108,
   "id": "ab9e1930",
   "metadata": {},
   "outputs": [
    {
     "data": {
      "text/plain": [
       "list"
      ]
     },
     "execution_count": 108,
     "metadata": {},
     "output_type": "execute_result"
    }
   ],
   "source": [
    "inputList=[]\n",
    "type(inputList)"
   ]
  },
  {
   "cell_type": "code",
   "execution_count": 109,
   "id": "66ed2c49",
   "metadata": {},
   "outputs": [
    {
     "data": {
      "text/plain": [
       "0"
      ]
     },
     "execution_count": 109,
     "metadata": {},
     "output_type": "execute_result"
    }
   ],
   "source": [
    "len(inputList)"
   ]
  },
  {
   "cell_type": "code",
   "execution_count": 110,
   "id": "aaf04a81",
   "metadata": {},
   "outputs": [],
   "source": [
    "#ekleme işlemlerini yaptık\n",
    "inputList.append(x) \n",
    "inputList.append(y)\n",
    "inputList.append(z)"
   ]
  },
  {
   "cell_type": "code",
   "execution_count": 111,
   "id": "5190308e",
   "metadata": {},
   "outputs": [
    {
     "data": {
      "text/plain": [
       "['10', '20', '30']"
      ]
     },
     "execution_count": 111,
     "metadata": {},
     "output_type": "execute_result"
    }
   ],
   "source": [
    "inputList"
   ]
  },
  {
   "cell_type": "code",
   "execution_count": 113,
   "id": "5619f89d",
   "metadata": {},
   "outputs": [
    {
     "data": {
      "text/plain": [
       "str"
      ]
     },
     "execution_count": 113,
     "metadata": {},
     "output_type": "execute_result"
    }
   ],
   "source": [
    "type(inputList[1])"
   ]
  },
  {
   "cell_type": "code",
   "execution_count": 114,
   "id": "b94f77e9",
   "metadata": {},
   "outputs": [
    {
     "data": {
      "text/plain": [
       "'50'"
      ]
     },
     "execution_count": 114,
     "metadata": {},
     "output_type": "execute_result"
    }
   ],
   "source": [
    "myInteger=50\n",
    "str(myInteger)"
   ]
  },
  {
   "cell_type": "code",
   "execution_count": 116,
   "id": "cb1d1834",
   "metadata": {},
   "outputs": [
    {
     "data": {
      "text/plain": [
       "'50'"
      ]
     },
     "execution_count": 116,
     "metadata": {},
     "output_type": "execute_result"
    }
   ],
   "source": [
    "str(myInteger)"
   ]
  },
  {
   "cell_type": "code",
   "execution_count": 120,
   "id": "660d02ae",
   "metadata": {},
   "outputs": [
    {
     "data": {
      "text/plain": [
       "'40'"
      ]
     },
     "execution_count": 120,
     "metadata": {},
     "output_type": "execute_result"
    }
   ],
   "source": [
    "myString=\"40\"\n",
    "int(myString)\n",
    "myString"
   ]
  },
  {
   "cell_type": "code",
   "execution_count": 121,
   "id": "dd895d46",
   "metadata": {},
   "outputs": [
    {
     "data": {
      "text/plain": [
       "40.0"
      ]
     },
     "execution_count": 121,
     "metadata": {},
     "output_type": "execute_result"
    }
   ],
   "source": [
    "float(myString)"
   ]
  },
  {
   "cell_type": "code",
   "execution_count": 122,
   "id": "f5a5b4cc",
   "metadata": {},
   "outputs": [],
   "source": [
    "myString=\"python\""
   ]
  },
  {
   "cell_type": "code",
   "execution_count": 124,
   "id": "4dd6393a",
   "metadata": {},
   "outputs": [],
   "source": [
    "#int(myString)"
   ]
  },
  {
   "cell_type": "code",
   "execution_count": 126,
   "id": "8dd8aa2a",
   "metadata": {},
   "outputs": [],
   "source": [
    "#float(myString)"
   ]
  },
  {
   "cell_type": "code",
   "execution_count": 127,
   "id": "13fe95f7",
   "metadata": {},
   "outputs": [
    {
     "data": {
      "text/plain": [
       "['10', '20', '30']"
      ]
     },
     "execution_count": 127,
     "metadata": {},
     "output_type": "execute_result"
    }
   ],
   "source": [
    "inputList"
   ]
  },
  {
   "cell_type": "code",
   "execution_count": 129,
   "id": "8afdd752",
   "metadata": {},
   "outputs": [
    {
     "data": {
      "text/plain": [
       "40"
      ]
     },
     "execution_count": 129,
     "metadata": {},
     "output_type": "execute_result"
    }
   ],
   "source": [
    "int(inputList[1])*2"
   ]
  },
  {
   "cell_type": "code",
   "execution_count": 130,
   "id": "739abfce",
   "metadata": {},
   "outputs": [
    {
     "data": {
      "text/plain": [
       "\"['10', '20', '30']\""
      ]
     },
     "execution_count": 130,
     "metadata": {},
     "output_type": "execute_result"
    }
   ],
   "source": [
    "str(inputList)"
   ]
  },
  {
   "cell_type": "code",
   "execution_count": 131,
   "id": "06a8d36b",
   "metadata": {},
   "outputs": [
    {
     "data": {
      "text/plain": [
       "list"
      ]
     },
     "execution_count": 131,
     "metadata": {},
     "output_type": "execute_result"
    }
   ],
   "source": [
    "mixedList=[\"gizem\",3.14,8]\n",
    "type(mixedList)"
   ]
  },
  {
   "cell_type": "code",
   "execution_count": 132,
   "id": "e52ebc26",
   "metadata": {},
   "outputs": [
    {
     "data": {
      "text/plain": [
       "str"
      ]
     },
     "execution_count": 132,
     "metadata": {},
     "output_type": "execute_result"
    }
   ],
   "source": [
    "type(mixedList[0])"
   ]
  },
  {
   "cell_type": "code",
   "execution_count": 133,
   "id": "afb28aa4",
   "metadata": {},
   "outputs": [
    {
     "data": {
      "text/plain": [
       "float"
      ]
     },
     "execution_count": 133,
     "metadata": {},
     "output_type": "execute_result"
    }
   ],
   "source": [
    "type(mixedList[1])"
   ]
  },
  {
   "cell_type": "code",
   "execution_count": 134,
   "id": "5ad4bca3",
   "metadata": {},
   "outputs": [
    {
     "data": {
      "text/plain": [
       "int"
      ]
     },
     "execution_count": 134,
     "metadata": {},
     "output_type": "execute_result"
    }
   ],
   "source": [
    "type(mixedList[2])"
   ]
  },
  {
   "cell_type": "code",
   "execution_count": 135,
   "id": "0a9010d8",
   "metadata": {},
   "outputs": [],
   "source": [
    "#nestedlist"
   ]
  },
  {
   "cell_type": "code",
   "execution_count": 137,
   "id": "669ef39f",
   "metadata": {},
   "outputs": [],
   "source": [
    "myNestedList=[10,20,3.14,\"ilo\",[5,8,7.6]]"
   ]
  },
  {
   "cell_type": "code",
   "execution_count": 138,
   "id": "13375e1b",
   "metadata": {},
   "outputs": [
    {
     "data": {
      "text/plain": [
       "10"
      ]
     },
     "execution_count": 138,
     "metadata": {},
     "output_type": "execute_result"
    }
   ],
   "source": [
    "myNestedList[0]"
   ]
  },
  {
   "cell_type": "code",
   "execution_count": 139,
   "id": "d0c619c8",
   "metadata": {},
   "outputs": [
    {
     "data": {
      "text/plain": [
       "20"
      ]
     },
     "execution_count": 139,
     "metadata": {},
     "output_type": "execute_result"
    }
   ],
   "source": [
    "myNestedList[1]"
   ]
  },
  {
   "cell_type": "code",
   "execution_count": 140,
   "id": "7a487e23",
   "metadata": {},
   "outputs": [
    {
     "data": {
      "text/plain": [
       "3.14"
      ]
     },
     "execution_count": 140,
     "metadata": {},
     "output_type": "execute_result"
    }
   ],
   "source": [
    "myNestedList[2]"
   ]
  },
  {
   "cell_type": "code",
   "execution_count": 141,
   "id": "5dad55aa",
   "metadata": {},
   "outputs": [
    {
     "data": {
      "text/plain": [
       "'ilo'"
      ]
     },
     "execution_count": 141,
     "metadata": {},
     "output_type": "execute_result"
    }
   ],
   "source": [
    "myNestedList[3]"
   ]
  },
  {
   "cell_type": "code",
   "execution_count": 144,
   "id": "21059021",
   "metadata": {},
   "outputs": [
    {
     "data": {
      "text/plain": [
       "[5, 8, 7.6]"
      ]
     },
     "execution_count": 144,
     "metadata": {},
     "output_type": "execute_result"
    }
   ],
   "source": [
    "myNestedList[4]"
   ]
  },
  {
   "cell_type": "code",
   "execution_count": 149,
   "id": "45dc3775",
   "metadata": {},
   "outputs": [
    {
     "name": "stdout",
     "output_type": "stream",
     "text": [
      "[5, 8, 7.6]\n"
     ]
    },
    {
     "data": {
      "text/plain": [
       "list"
      ]
     },
     "execution_count": 149,
     "metadata": {},
     "output_type": "execute_result"
    }
   ],
   "source": [
    "smallList=myNestedList[4] #liste içinde liste tuttuk\n",
    "print(smallList)\n",
    "type(smallList)"
   ]
  },
  {
   "cell_type": "code",
   "execution_count": 154,
   "id": "ec1e8eef",
   "metadata": {},
   "outputs": [
    {
     "data": {
      "text/plain": [
       "7.6"
      ]
     },
     "execution_count": 154,
     "metadata": {},
     "output_type": "execute_result"
    }
   ],
   "source": [
    "smallList[2]"
   ]
  },
  {
   "cell_type": "code",
   "execution_count": 156,
   "id": "74cdea34",
   "metadata": {},
   "outputs": [
    {
     "data": {
      "text/plain": [
       "7.6"
      ]
     },
     "execution_count": 156,
     "metadata": {},
     "output_type": "execute_result"
    }
   ],
   "source": [
    "myNestedList[4][2]"
   ]
  },
  {
   "cell_type": "code",
   "execution_count": 157,
   "id": "225ba65b",
   "metadata": {},
   "outputs": [],
   "source": [
    "firstList=[10,20,30,40,50,60]"
   ]
  },
  {
   "cell_type": "code",
   "execution_count": 158,
   "id": "47f3635c",
   "metadata": {},
   "outputs": [
    {
     "data": {
      "text/plain": [
       "[40, 50, 60]"
      ]
     },
     "execution_count": 158,
     "metadata": {},
     "output_type": "execute_result"
    }
   ],
   "source": [
    "firstList[3::]"
   ]
  },
  {
   "cell_type": "code",
   "execution_count": 159,
   "id": "ac965bd3",
   "metadata": {},
   "outputs": [
    {
     "data": {
      "text/plain": [
       "[10, 20, 30]"
      ]
     },
     "execution_count": 159,
     "metadata": {},
     "output_type": "execute_result"
    }
   ],
   "source": [
    "firstList[:3:]"
   ]
  },
  {
   "cell_type": "code",
   "execution_count": 160,
   "id": "26751d45",
   "metadata": {},
   "outputs": [
    {
     "data": {
      "text/plain": [
       "[10, 40]"
      ]
     },
     "execution_count": 160,
     "metadata": {},
     "output_type": "execute_result"
    }
   ],
   "source": [
    "firstList[::3]"
   ]
  },
  {
   "cell_type": "markdown",
   "id": "368805e6",
   "metadata": {},
   "source": [
    "# DICTIONARY"
   ]
  },
  {
   "cell_type": "code",
   "execution_count": 1,
   "id": "9176ec80",
   "metadata": {},
   "outputs": [],
   "source": [
    "#KEY - VALUE PAIRING (anahtar-değer eşleştirmeleri)"
   ]
  },
  {
   "cell_type": "code",
   "execution_count": 2,
   "id": "664f4205",
   "metadata": {},
   "outputs": [],
   "source": [
    "fruit_list=[\"banana\",\"apple\",\"strawberry\"]"
   ]
  },
  {
   "cell_type": "code",
   "execution_count": 3,
   "id": "803aa1b6",
   "metadata": {},
   "outputs": [],
   "source": [
    "calorie_list=[50,100,150]"
   ]
  },
  {
   "cell_type": "code",
   "execution_count": 15,
   "id": "6e0ffe56",
   "metadata": {},
   "outputs": [
    {
     "data": {
      "text/plain": [
       "('banana', 50)"
      ]
     },
     "execution_count": 15,
     "metadata": {},
     "output_type": "execute_result"
    }
   ],
   "source": [
    "fruit_list[0],calorie_list[0]"
   ]
  },
  {
   "cell_type": "code",
   "execution_count": 18,
   "id": "bfad01a5",
   "metadata": {},
   "outputs": [],
   "source": [
    "fitness_dictionary= {\"banana\":50 , \"apple\":100, \"strawberry\":150} #anahtar - değer eşleşmesi"
   ]
  },
  {
   "cell_type": "code",
   "execution_count": 20,
   "id": "18ee26ec",
   "metadata": {},
   "outputs": [
    {
     "data": {
      "text/plain": [
       "dict"
      ]
     },
     "execution_count": 20,
     "metadata": {},
     "output_type": "execute_result"
    }
   ],
   "source": [
    "type(fitness_dictionary)"
   ]
  },
  {
   "cell_type": "code",
   "execution_count": 22,
   "id": "13ad6063",
   "metadata": {},
   "outputs": [],
   "source": [
    "#fitness_dictionary[0] artık index mantığı yok!!!!"
   ]
  },
  {
   "cell_type": "code",
   "execution_count": 24,
   "id": "1c0d0041",
   "metadata": {},
   "outputs": [
    {
     "data": {
      "text/plain": [
       "150"
      ]
     },
     "execution_count": 24,
     "metadata": {},
     "output_type": "execute_result"
    }
   ],
   "source": [
    "fitness_dictionary[\"strawberry\"] #burda sadece anahtarları yazabiliriz. ona göre değer eşleşmesini verir"
   ]
  },
  {
   "cell_type": "code",
   "execution_count": 25,
   "id": "e3fa86ee",
   "metadata": {},
   "outputs": [
    {
     "data": {
      "text/plain": [
       "dict_keys(['banana', 'apple', 'strawberry'])"
      ]
     },
     "execution_count": 25,
     "metadata": {},
     "output_type": "execute_result"
    }
   ],
   "source": [
    "fitness_dictionary.keys() #sadece anahtarları verir"
   ]
  },
  {
   "cell_type": "code",
   "execution_count": 26,
   "id": "06564296",
   "metadata": {},
   "outputs": [
    {
     "data": {
      "text/plain": [
       "dict_values([50, 100, 150])"
      ]
     },
     "execution_count": 26,
     "metadata": {},
     "output_type": "execute_result"
    }
   ],
   "source": [
    "fitness_dictionary.values() #sadece değerleri verir"
   ]
  },
  {
   "cell_type": "code",
   "execution_count": 27,
   "id": "089275cd",
   "metadata": {},
   "outputs": [
    {
     "data": {
      "text/plain": [
       "dict_values"
      ]
     },
     "execution_count": 27,
     "metadata": {},
     "output_type": "execute_result"
    }
   ],
   "source": [
    "type(fitness_dictionary.values())"
   ]
  },
  {
   "cell_type": "code",
   "execution_count": 29,
   "id": "20f53c7f",
   "metadata": {},
   "outputs": [
    {
     "data": {
      "text/plain": [
       "[50, 100, 150]"
      ]
     },
     "execution_count": 29,
     "metadata": {},
     "output_type": "execute_result"
    }
   ],
   "source": [
    "list(fitness_dictionary.values()) #listeye çevirdik"
   ]
  },
  {
   "cell_type": "code",
   "execution_count": 32,
   "id": "4d010836",
   "metadata": {},
   "outputs": [],
   "source": [
    "fitness_dictionary[\"banana\"]=200"
   ]
  },
  {
   "cell_type": "code",
   "execution_count": 33,
   "id": "ba85e657",
   "metadata": {},
   "outputs": [
    {
     "data": {
      "text/plain": [
       "{'banana': 200, 'apple': 100, 'strawberry': 150}"
      ]
     },
     "execution_count": 33,
     "metadata": {},
     "output_type": "execute_result"
    }
   ],
   "source": [
    "fitness_dictionary"
   ]
  },
  {
   "cell_type": "code",
   "execution_count": 34,
   "id": "a211209d",
   "metadata": {},
   "outputs": [],
   "source": [
    "fitness_dictionary[\"melon\"]=300"
   ]
  },
  {
   "cell_type": "code",
   "execution_count": 35,
   "id": "7936009b",
   "metadata": {},
   "outputs": [
    {
     "data": {
      "text/plain": [
       "{'banana': 200, 'apple': 100, 'strawberry': 150, 'melon': 300}"
      ]
     },
     "execution_count": 35,
     "metadata": {},
     "output_type": "execute_result"
    }
   ],
   "source": [
    "fitness_dictionary"
   ]
  },
  {
   "cell_type": "code",
   "execution_count": 36,
   "id": "174b44dd",
   "metadata": {},
   "outputs": [
    {
     "data": {
      "text/plain": [
       "100"
      ]
     },
     "execution_count": 36,
     "metadata": {},
     "output_type": "execute_result"
    }
   ],
   "source": [
    "fitness_dictionary.get(\"apple\",0)"
   ]
  },
  {
   "cell_type": "code",
   "execution_count": 37,
   "id": "ff438005",
   "metadata": {},
   "outputs": [
    {
     "data": {
      "text/plain": [
       "0"
      ]
     },
     "execution_count": 37,
     "metadata": {},
     "output_type": "execute_result"
    }
   ],
   "source": [
    "fitness_dictionary.get(\"app\",0) #mevcut olmayan bir değer yazarsak default değeri getirir, hata vermez"
   ]
  },
  {
   "cell_type": "code",
   "execution_count": 39,
   "id": "04240f57",
   "metadata": {},
   "outputs": [],
   "source": [
    "my_dictionary={100:\"a\", 200:\"b\",300:\"c\"} #değerler string, anahtar int olsun"
   ]
  },
  {
   "cell_type": "code",
   "execution_count": 40,
   "id": "06a3eef8",
   "metadata": {},
   "outputs": [
    {
     "data": {
      "text/plain": [
       "'a'"
      ]
     },
     "execution_count": 40,
     "metadata": {},
     "output_type": "execute_result"
    }
   ],
   "source": [
    "my_dictionary[100]"
   ]
  },
  {
   "cell_type": "code",
   "execution_count": 42,
   "id": "06998dd1",
   "metadata": {},
   "outputs": [],
   "source": [
    "#my_dictionary[b] her zaman değeri yazmalıyız, anahtarı değil!!"
   ]
  },
  {
   "cell_type": "code",
   "execution_count": 44,
   "id": "9c88a901",
   "metadata": {},
   "outputs": [],
   "source": [
    "my_dictionary= {\"key1\": \"value1\", \"key2\" : \"value2\"}"
   ]
  },
  {
   "cell_type": "code",
   "execution_count": 45,
   "id": "b6b4c33e",
   "metadata": {},
   "outputs": [
    {
     "data": {
      "text/plain": [
       "{'key1': 'value1', 'key2': 'value2'}"
      ]
     },
     "execution_count": 45,
     "metadata": {},
     "output_type": "execute_result"
    }
   ],
   "source": [
    "my_dictionary"
   ]
  },
  {
   "cell_type": "code",
   "execution_count": 46,
   "id": "58d30d34",
   "metadata": {},
   "outputs": [],
   "source": [
    "my_mixed_dictionary={\"key1\":100, \"key2\": 3.14, \"key3\": [10,20,30]}"
   ]
  },
  {
   "cell_type": "code",
   "execution_count": 47,
   "id": "740056ac",
   "metadata": {},
   "outputs": [
    {
     "data": {
      "text/plain": [
       "[10, 20, 30]"
      ]
     },
     "execution_count": 47,
     "metadata": {},
     "output_type": "execute_result"
    }
   ],
   "source": [
    "my_mixed_dictionary[\"key3\"]"
   ]
  },
  {
   "cell_type": "code",
   "execution_count": 48,
   "id": "6e1e8510",
   "metadata": {},
   "outputs": [
    {
     "data": {
      "text/plain": [
       "20"
      ]
     },
     "execution_count": 48,
     "metadata": {},
     "output_type": "execute_result"
    }
   ],
   "source": [
    "my_mixed_dictionary[\"key3\"][1]"
   ]
  },
  {
   "cell_type": "code",
   "execution_count": 49,
   "id": "b24265bf",
   "metadata": {},
   "outputs": [],
   "source": [
    "last_dictionary={\"k1\": 10, \"k2\" : [10,20,30,40,50], \"k3\": \"string\", \"k4\" : {\"a\": 100, \"b\": 200} }"
   ]
  },
  {
   "cell_type": "code",
   "execution_count": 50,
   "id": "fad10e3f",
   "metadata": {},
   "outputs": [
    {
     "data": {
      "text/plain": [
       "200"
      ]
     },
     "execution_count": 50,
     "metadata": {},
     "output_type": "execute_result"
    }
   ],
   "source": [
    "last_dictionary[\"k4\"][\"b\"]"
   ]
  },
  {
   "cell_type": "code",
   "execution_count": 51,
   "id": "df7541c5",
   "metadata": {},
   "outputs": [
    {
     "data": {
      "text/plain": [
       "40"
      ]
     },
     "execution_count": 51,
     "metadata": {},
     "output_type": "execute_result"
    }
   ],
   "source": [
    "last_dictionary[\"k2\"][3]"
   ]
  },
  {
   "cell_type": "markdown",
   "id": "c7b76fc0",
   "metadata": {},
   "source": [
    "# SETS"
   ]
  },
  {
   "cell_type": "code",
   "execution_count": 52,
   "id": "ce0ed1b8",
   "metadata": {},
   "outputs": [],
   "source": [
    "#unique elements , unordered (tekil elemanlar, sırası önemsiz)"
   ]
  },
  {
   "cell_type": "code",
   "execution_count": 53,
   "id": "95d22e02",
   "metadata": {},
   "outputs": [],
   "source": [
    "myList = [10,20,30,10,20,40,10,20,40]"
   ]
  },
  {
   "cell_type": "code",
   "execution_count": 54,
   "id": "7a02b231",
   "metadata": {},
   "outputs": [
    {
     "data": {
      "text/plain": [
       "9"
      ]
     },
     "execution_count": 54,
     "metadata": {},
     "output_type": "execute_result"
    }
   ],
   "source": [
    "len(myList)"
   ]
  },
  {
   "cell_type": "code",
   "execution_count": 55,
   "id": "a2af129d",
   "metadata": {},
   "outputs": [
    {
     "data": {
      "text/plain": [
       "[10, 20, 30, 10, 20, 40, 10, 20, 40]"
      ]
     },
     "execution_count": 55,
     "metadata": {},
     "output_type": "execute_result"
    }
   ],
   "source": [
    "myList #listede tek önemli olan şey indextir"
   ]
  },
  {
   "cell_type": "code",
   "execution_count": 56,
   "id": "d2a60623",
   "metadata": {},
   "outputs": [],
   "source": [
    "mySet=set(myList)"
   ]
  },
  {
   "cell_type": "code",
   "execution_count": 58,
   "id": "851dbf66",
   "metadata": {},
   "outputs": [
    {
     "data": {
      "text/plain": [
       "{10, 20, 30, 40}"
      ]
     },
     "execution_count": 58,
     "metadata": {},
     "output_type": "execute_result"
    }
   ],
   "source": [
    "mySet #set'de her elemandan bir ane olmalı"
   ]
  },
  {
   "cell_type": "code",
   "execution_count": 59,
   "id": "16d28d63",
   "metadata": {},
   "outputs": [],
   "source": [
    "mySet={10,20,30,10,20,40,10,20,40}"
   ]
  },
  {
   "cell_type": "code",
   "execution_count": 60,
   "id": "ccf622e2",
   "metadata": {},
   "outputs": [
    {
     "data": {
      "text/plain": [
       "{10, 20, 30, 40}"
      ]
     },
     "execution_count": 60,
     "metadata": {},
     "output_type": "execute_result"
    }
   ],
   "source": [
    "mySet"
   ]
  },
  {
   "cell_type": "code",
   "execution_count": 61,
   "id": "2b582390",
   "metadata": {},
   "outputs": [],
   "source": [
    "mySet.add(10)"
   ]
  },
  {
   "cell_type": "code",
   "execution_count": 62,
   "id": "f404fbb8",
   "metadata": {},
   "outputs": [],
   "source": [
    "mySet.add(50)"
   ]
  },
  {
   "cell_type": "code",
   "execution_count": 63,
   "id": "6d427f79",
   "metadata": {},
   "outputs": [
    {
     "data": {
      "text/plain": [
       "{10, 20, 30, 40, 50}"
      ]
     },
     "execution_count": 63,
     "metadata": {},
     "output_type": "execute_result"
    }
   ],
   "source": [
    "mySet"
   ]
  },
  {
   "cell_type": "code",
   "execution_count": 64,
   "id": "bb7eed30",
   "metadata": {},
   "outputs": [],
   "source": [
    "mySet2={30,40,50,60,70}"
   ]
  },
  {
   "cell_type": "code",
   "execution_count": 65,
   "id": "fa452eb6",
   "metadata": {},
   "outputs": [
    {
     "data": {
      "text/plain": [
       "{30, 40, 50, 60, 70}"
      ]
     },
     "execution_count": 65,
     "metadata": {},
     "output_type": "execute_result"
    }
   ],
   "source": [
    "mySet2"
   ]
  },
  {
   "cell_type": "raw",
   "id": "261e9bec",
   "metadata": {},
   "source": [
    "## SET İLE KÜME İŞLEMLERİ YAPILABİLİR"
   ]
  },
  {
   "cell_type": "code",
   "execution_count": 66,
   "id": "26ab82e2",
   "metadata": {},
   "outputs": [
    {
     "data": {
      "text/plain": [
       "{10, 20, 30, 40, 50, 60, 70}"
      ]
     },
     "execution_count": 66,
     "metadata": {},
     "output_type": "execute_result"
    }
   ],
   "source": [
    "mySet.union(mySet2)"
   ]
  },
  {
   "cell_type": "code",
   "execution_count": 67,
   "id": "d22dbbd8",
   "metadata": {},
   "outputs": [
    {
     "data": {
      "text/plain": [
       "{30, 40, 50}"
      ]
     },
     "execution_count": 67,
     "metadata": {},
     "output_type": "execute_result"
    }
   ],
   "source": [
    "mySet.intersection(mySet2)"
   ]
  },
  {
   "cell_type": "code",
   "execution_count": 68,
   "id": "cb8cbf66",
   "metadata": {},
   "outputs": [],
   "source": [
    "country_list=[\"de\",\"fr\",\"tr\",\"fr\",\"tr\",\"tr\",\"de\",\"nl\",\"de\",\"tr\"]"
   ]
  },
  {
   "cell_type": "code",
   "execution_count": 69,
   "id": "d6c3975a",
   "metadata": {},
   "outputs": [
    {
     "data": {
      "text/plain": [
       "10"
      ]
     },
     "execution_count": 69,
     "metadata": {},
     "output_type": "execute_result"
    }
   ],
   "source": [
    "len(country_list)"
   ]
  },
  {
   "cell_type": "code",
   "execution_count": 70,
   "id": "d4f89fd7",
   "metadata": {},
   "outputs": [
    {
     "data": {
      "text/plain": [
       "{'de', 'fr', 'nl', 'tr'}"
      ]
     },
     "execution_count": 70,
     "metadata": {},
     "output_type": "execute_result"
    }
   ],
   "source": [
    "set(country_list)"
   ]
  },
  {
   "cell_type": "code",
   "execution_count": 71,
   "id": "85a947ea",
   "metadata": {},
   "outputs": [
    {
     "data": {
      "text/plain": [
       "4"
      ]
     },
     "execution_count": 71,
     "metadata": {},
     "output_type": "execute_result"
    }
   ],
   "source": [
    "len(set(country_list))"
   ]
  },
  {
   "cell_type": "code",
   "execution_count": 72,
   "id": "b5a8e621",
   "metadata": {},
   "outputs": [],
   "source": [
    "emptyList=[]"
   ]
  },
  {
   "cell_type": "code",
   "execution_count": 73,
   "id": "92706a8d",
   "metadata": {},
   "outputs": [],
   "source": [
    "emptyList.append(10)\n",
    "emptyList.append(20)\n",
    "emptyList.append(30)"
   ]
  },
  {
   "cell_type": "code",
   "execution_count": 74,
   "id": "b8a17cb5",
   "metadata": {},
   "outputs": [
    {
     "data": {
      "text/plain": [
       "[10, 20, 30]"
      ]
     },
     "execution_count": 74,
     "metadata": {},
     "output_type": "execute_result"
    }
   ],
   "source": [
    "emptyList"
   ]
  },
  {
   "cell_type": "code",
   "execution_count": 77,
   "id": "d6cea53e",
   "metadata": {},
   "outputs": [],
   "source": [
    "emptySet = {} #boş set oluşturamıyorum. python bunu sözlük sanıyor. dict"
   ]
  },
  {
   "cell_type": "code",
   "execution_count": 76,
   "id": "03167fa5",
   "metadata": {},
   "outputs": [
    {
     "data": {
      "text/plain": [
       "dict"
      ]
     },
     "execution_count": 76,
     "metadata": {},
     "output_type": "execute_result"
    }
   ],
   "source": [
    "type(emptySet)"
   ]
  },
  {
   "cell_type": "code",
   "execution_count": 78,
   "id": "53d88e9b",
   "metadata": {},
   "outputs": [],
   "source": [
    "emptySet = set()"
   ]
  },
  {
   "cell_type": "code",
   "execution_count": 79,
   "id": "2b2fa87c",
   "metadata": {},
   "outputs": [
    {
     "data": {
      "text/plain": [
       "set"
      ]
     },
     "execution_count": 79,
     "metadata": {},
     "output_type": "execute_result"
    }
   ],
   "source": [
    "type(emptySet)"
   ]
  },
  {
   "cell_type": "code",
   "execution_count": 80,
   "id": "7d7c26c1",
   "metadata": {},
   "outputs": [],
   "source": [
    "emptySet.add(10)\n",
    "emptySet.add(20)\n",
    "emptySet.add(30)\n",
    "emptySet.add(10)\n",
    "emptySet.add(10)"
   ]
  },
  {
   "cell_type": "code",
   "execution_count": 81,
   "id": "2c21026c",
   "metadata": {},
   "outputs": [
    {
     "data": {
      "text/plain": [
       "{10, 20, 30}"
      ]
     },
     "execution_count": 81,
     "metadata": {},
     "output_type": "execute_result"
    }
   ],
   "source": [
    "emptySet"
   ]
  },
  {
   "cell_type": "code",
   "execution_count": 84,
   "id": "b9e7cc27",
   "metadata": {},
   "outputs": [],
   "source": [
    "emptyList= list() #bu kullanımı list'te de kullanabiliriz\n",
    "emptyList.append(10)\n",
    "emptyList.append(20)\n",
    "emptyList.append(30)"
   ]
  },
  {
   "cell_type": "code",
   "execution_count": 83,
   "id": "fdeb318c",
   "metadata": {},
   "outputs": [
    {
     "data": {
      "text/plain": [
       "[10, 20, 30]"
      ]
     },
     "execution_count": 83,
     "metadata": {},
     "output_type": "execute_result"
    }
   ],
   "source": [
    "emptyList"
   ]
  },
  {
   "cell_type": "code",
   "execution_count": 85,
   "id": "a949328b",
   "metadata": {},
   "outputs": [],
   "source": [
    "emptyDictionary = dict() #dictionary yapısında da kullanabiliriz"
   ]
  },
  {
   "cell_type": "code",
   "execution_count": 86,
   "id": "52bf1f91",
   "metadata": {},
   "outputs": [],
   "source": [
    "emptyDictionary[\"a\"] = 10\n",
    "emptyDictionary[\"b\"]= 20"
   ]
  },
  {
   "cell_type": "code",
   "execution_count": 87,
   "id": "437e809b",
   "metadata": {},
   "outputs": [
    {
     "data": {
      "text/plain": [
       "{'a': 10, 'b': 20}"
      ]
     },
     "execution_count": 87,
     "metadata": {},
     "output_type": "execute_result"
    }
   ],
   "source": [
    "emptyDictionary"
   ]
  },
  {
   "cell_type": "markdown",
   "id": "576125b6",
   "metadata": {},
   "source": [
    "# TUPLES"
   ]
  },
  {
   "cell_type": "code",
   "execution_count": 88,
   "id": "3b9412e3",
   "metadata": {},
   "outputs": [],
   "source": [
    "myList= [10, \"a\", \"b\", 3.14]"
   ]
  },
  {
   "cell_type": "code",
   "execution_count": 89,
   "id": "271fc850",
   "metadata": {},
   "outputs": [
    {
     "data": {
      "text/plain": [
       "10"
      ]
     },
     "execution_count": 89,
     "metadata": {},
     "output_type": "execute_result"
    }
   ],
   "source": [
    "myList[0]"
   ]
  },
  {
   "cell_type": "code",
   "execution_count": 90,
   "id": "9088ab2e",
   "metadata": {},
   "outputs": [],
   "source": [
    "myList[0]=100"
   ]
  },
  {
   "cell_type": "code",
   "execution_count": 91,
   "id": "a8f44232",
   "metadata": {},
   "outputs": [
    {
     "data": {
      "text/plain": [
       "[100, 'a', 'b', 3.14]"
      ]
     },
     "execution_count": 91,
     "metadata": {},
     "output_type": "execute_result"
    }
   ],
   "source": [
    "myList"
   ]
  },
  {
   "cell_type": "code",
   "execution_count": 92,
   "id": "cba7ce31",
   "metadata": {},
   "outputs": [],
   "source": [
    "#tuple"
   ]
  },
  {
   "cell_type": "code",
   "execution_count": 93,
   "id": "0f850a3d",
   "metadata": {},
   "outputs": [],
   "source": [
    "myTuple=(10,\"a\",\"b\",3.14)"
   ]
  },
  {
   "cell_type": "code",
   "execution_count": 94,
   "id": "6ad25853",
   "metadata": {},
   "outputs": [
    {
     "data": {
      "text/plain": [
       "tuple"
      ]
     },
     "execution_count": 94,
     "metadata": {},
     "output_type": "execute_result"
    }
   ],
   "source": [
    "type(myTuple)"
   ]
  },
  {
   "cell_type": "code",
   "execution_count": 96,
   "id": "2f82f417",
   "metadata": {},
   "outputs": [],
   "source": [
    "#myTuple.[0] = 100"
   ]
  },
  {
   "cell_type": "code",
   "execution_count": 98,
   "id": "93c0f5d9",
   "metadata": {},
   "outputs": [],
   "source": [
    "#immutability- değiştirilemez. güncellenemez. sadece indexini ve kaç tane olacağını öğreniriz"
   ]
  },
  {
   "cell_type": "code",
   "execution_count": 99,
   "id": "96fb60a8",
   "metadata": {},
   "outputs": [],
   "source": [
    "#kütüphanelerde kullanılır bu yapı\n",
    "#değiştirilemez sonuçlarda"
   ]
  },
  {
   "cell_type": "code",
   "execution_count": 100,
   "id": "3e8027b9",
   "metadata": {},
   "outputs": [
    {
     "data": {
      "text/plain": [
       "1"
      ]
     },
     "execution_count": 100,
     "metadata": {},
     "output_type": "execute_result"
    }
   ],
   "source": [
    "myTuple.count(\"a\")"
   ]
  },
  {
   "cell_type": "code",
   "execution_count": 103,
   "id": "598b4cf0",
   "metadata": {},
   "outputs": [],
   "source": [
    "resultList = list(myTuple) #listeye çevirerek güncelleme işlemlerini yapılabilir hale getirebiliriz"
   ]
  },
  {
   "cell_type": "code",
   "execution_count": 104,
   "id": "796fb721",
   "metadata": {},
   "outputs": [
    {
     "data": {
      "text/plain": [
       "[10, 'a', 'b', 3.14]"
      ]
     },
     "execution_count": 104,
     "metadata": {},
     "output_type": "execute_result"
    }
   ],
   "source": [
    "resultList"
   ]
  },
  {
   "cell_type": "markdown",
   "id": "1ea550a3",
   "metadata": {},
   "source": [
    "# BOOL"
   ]
  },
  {
   "cell_type": "code",
   "execution_count": 105,
   "id": "d3c9eef9",
   "metadata": {},
   "outputs": [],
   "source": [
    "#sadece iki değer alabilir. 1,0"
   ]
  },
  {
   "cell_type": "code",
   "execution_count": 107,
   "id": "fd3a6171",
   "metadata": {},
   "outputs": [],
   "source": [
    "myBoolean= True"
   ]
  },
  {
   "cell_type": "code",
   "execution_count": 108,
   "id": "46208130",
   "metadata": {},
   "outputs": [
    {
     "data": {
      "text/plain": [
       "bool"
      ]
     },
     "execution_count": 108,
     "metadata": {},
     "output_type": "execute_result"
    }
   ],
   "source": [
    "type(myBoolean)"
   ]
  },
  {
   "cell_type": "code",
   "execution_count": 112,
   "id": "ec0e8af0",
   "metadata": {},
   "outputs": [
    {
     "data": {
      "text/plain": [
       "False"
      ]
     },
     "execution_count": 112,
     "metadata": {},
     "output_type": "execute_result"
    }
   ],
   "source": [
    "5 > 10"
   ]
  },
  {
   "cell_type": "code",
   "execution_count": 113,
   "id": "898654ce",
   "metadata": {},
   "outputs": [
    {
     "name": "stdout",
     "output_type": "stream",
     "text": [
      "yas giriniz: 26\n"
     ]
    }
   ],
   "source": [
    "age=input(\"yas giriniz: \")"
   ]
  },
  {
   "cell_type": "code",
   "execution_count": 114,
   "id": "20599294",
   "metadata": {},
   "outputs": [
    {
     "data": {
      "text/plain": [
       "'26'"
      ]
     },
     "execution_count": 114,
     "metadata": {},
     "output_type": "execute_result"
    }
   ],
   "source": [
    "age"
   ]
  },
  {
   "cell_type": "code",
   "execution_count": 117,
   "id": "96e257f8",
   "metadata": {},
   "outputs": [
    {
     "data": {
      "text/plain": [
       "True"
      ]
     },
     "execution_count": 117,
     "metadata": {},
     "output_type": "execute_result"
    }
   ],
   "source": [
    "int(age)>18"
   ]
  },
  {
   "cell_type": "markdown",
   "id": "240811c0",
   "metadata": {},
   "source": [
    "# QUIZ - 1"
   ]
  },
  {
   "cell_type": "code",
   "execution_count": 118,
   "id": "0b797a04",
   "metadata": {},
   "outputs": [],
   "source": [
    "# 1) Asagidaki string'in 5. harfini bir degiskene atayiniz\n",
    "my_string = \"Python Ogreniyorum\""
   ]
  },
  {
   "cell_type": "code",
   "execution_count": 119,
   "id": "04848124",
   "metadata": {},
   "outputs": [
    {
     "data": {
      "text/plain": [
       "str"
      ]
     },
     "execution_count": 119,
     "metadata": {},
     "output_type": "execute_result"
    }
   ],
   "source": [
    "type(my_string)"
   ]
  },
  {
   "cell_type": "code",
   "execution_count": 120,
   "id": "357b6be4",
   "metadata": {},
   "outputs": [
    {
     "data": {
      "text/plain": [
       "['P',\n",
       " 'y',\n",
       " 't',\n",
       " 'h',\n",
       " 'o',\n",
       " 'n',\n",
       " ' ',\n",
       " 'O',\n",
       " 'g',\n",
       " 'r',\n",
       " 'e',\n",
       " 'n',\n",
       " 'i',\n",
       " 'y',\n",
       " 'o',\n",
       " 'r',\n",
       " 'u',\n",
       " 'm']"
      ]
     },
     "execution_count": 120,
     "metadata": {},
     "output_type": "execute_result"
    }
   ],
   "source": [
    "list(my_string)"
   ]
  },
  {
   "cell_type": "code",
   "execution_count": 123,
   "id": "d95b0144",
   "metadata": {},
   "outputs": [],
   "source": [
    "x=my_string [4]"
   ]
  },
  {
   "cell_type": "code",
   "execution_count": 124,
   "id": "8b8c5173",
   "metadata": {},
   "outputs": [
    {
     "data": {
      "text/plain": [
       "'o'"
      ]
     },
     "execution_count": 124,
     "metadata": {},
     "output_type": "execute_result"
    }
   ],
   "source": [
    "x"
   ]
  },
  {
   "cell_type": "code",
   "execution_count": 125,
   "id": "54ed3ca4",
   "metadata": {},
   "outputs": [],
   "source": [
    "# 2) Asagidaki String'in 5. ve 8. karakteri arasindaki tum harflerini yazdiriniz (5 ve 8 dahil)\n",
    "\n",
    "my_new_string = \"ProgramlamayaMerhabaDedik\""
   ]
  },
  {
   "cell_type": "code",
   "execution_count": 126,
   "id": "cd287cca",
   "metadata": {},
   "outputs": [
    {
     "data": {
      "text/plain": [
       "'raml'"
      ]
     },
     "execution_count": 126,
     "metadata": {},
     "output_type": "execute_result"
    }
   ],
   "source": [
    "my_new_string[4:8:]"
   ]
  },
  {
   "cell_type": "code",
   "execution_count": 127,
   "id": "ca800e32",
   "metadata": {},
   "outputs": [],
   "source": [
    "# 3) Asagidaki String'i kod ile tersten yazin\n",
    "my_last_string = \"Afyonkarahisarlilastiramadiklarimizdanmisiniz\""
   ]
  },
  {
   "cell_type": "code",
   "execution_count": 160,
   "id": "3d4d6b62",
   "metadata": {},
   "outputs": [
    {
     "data": {
      "text/plain": [
       "45"
      ]
     },
     "execution_count": 160,
     "metadata": {},
     "output_type": "execute_result"
    }
   ],
   "source": [
    "len(my_last_string)"
   ]
  },
  {
   "cell_type": "code",
   "execution_count": 161,
   "id": "04714ffa",
   "metadata": {},
   "outputs": [
    {
     "data": {
      "text/plain": [
       "'zinisimnadzimiralkidamaritsalilrasiharaknoyfA'"
      ]
     },
     "execution_count": 161,
     "metadata": {},
     "output_type": "execute_result"
    }
   ],
   "source": [
    "my_last_string[::-1]"
   ]
  },
  {
   "cell_type": "code",
   "execution_count": 137,
   "id": "85f1d47e",
   "metadata": {},
   "outputs": [],
   "source": [
    "# 4) Asagidaki islemin sonucu hangi veri tipinde olacaktir?\n",
    "islem= 4 + 12.2 + 48"
   ]
  },
  {
   "cell_type": "code",
   "execution_count": 138,
   "id": "b4b9cb4d",
   "metadata": {},
   "outputs": [
    {
     "data": {
      "text/plain": [
       "float"
      ]
     },
     "execution_count": 138,
     "metadata": {},
     "output_type": "execute_result"
    }
   ],
   "source": [
    "type(islem)"
   ]
  },
  {
   "cell_type": "code",
   "execution_count": 139,
   "id": "a43023d8",
   "metadata": {},
   "outputs": [
    {
     "data": {
      "text/plain": [
       "89"
      ]
     },
     "execution_count": 139,
     "metadata": {},
     "output_type": "execute_result"
    }
   ],
   "source": [
    "# 5) Asagidaki islemin sonucu kactir?\n",
    "5 + 7 * 12"
   ]
  },
  {
   "cell_type": "code",
   "execution_count": 140,
   "id": "bf1182e0",
   "metadata": {},
   "outputs": [],
   "source": [
    "# 6) Bu listeyi en az 2 farkli yoldan olusturunuz: [1,3,\"a\"]\n",
    "list1=[1,3,\"a\"]"
   ]
  },
  {
   "cell_type": "code",
   "execution_count": 162,
   "id": "eceacd83",
   "metadata": {},
   "outputs": [],
   "source": [
    "list1=list() #önce boş"
   ]
  },
  {
   "cell_type": "code",
   "execution_count": 163,
   "id": "adee4243",
   "metadata": {},
   "outputs": [
    {
     "data": {
      "text/plain": [
       "0"
      ]
     },
     "execution_count": 163,
     "metadata": {},
     "output_type": "execute_result"
    }
   ],
   "source": [
    "len(list1)"
   ]
  },
  {
   "cell_type": "code",
   "execution_count": 164,
   "id": "8eba7345",
   "metadata": {},
   "outputs": [],
   "source": [
    "list1.append(1)\n",
    "list1.append(3)\n",
    "list1.append(\"a\")"
   ]
  },
  {
   "cell_type": "code",
   "execution_count": 165,
   "id": "d02bca86",
   "metadata": {},
   "outputs": [
    {
     "data": {
      "text/plain": [
       "[1, 3, 'a']"
      ]
     },
     "execution_count": 165,
     "metadata": {},
     "output_type": "execute_result"
    }
   ],
   "source": [
    "list1"
   ]
  },
  {
   "cell_type": "code",
   "execution_count": 150,
   "id": "42f6d9ee",
   "metadata": {},
   "outputs": [],
   "source": [
    "# 7) Asagidaki \"b\"'yi tek satirda aliniz:\n",
    "my_list = [3.14,4,[2,3,\"b\"],True]"
   ]
  },
  {
   "cell_type": "code",
   "execution_count": 151,
   "id": "464798f8",
   "metadata": {},
   "outputs": [
    {
     "data": {
      "text/plain": [
       "'b'"
      ]
     },
     "execution_count": 151,
     "metadata": {},
     "output_type": "execute_result"
    }
   ],
   "source": [
    "my_list[2][2]"
   ]
  },
  {
   "cell_type": "code",
   "execution_count": 152,
   "id": "1aca2dce",
   "metadata": {},
   "outputs": [],
   "source": [
    "# 8) Asagidaki \"a\"'yi tek satirda aliniz:\n",
    "my_dictionary = {\"key1\":20.25, \"kk2\":[40,{\"k21\":\"a\"}]}"
   ]
  },
  {
   "cell_type": "code",
   "execution_count": 156,
   "id": "def7ecb6",
   "metadata": {},
   "outputs": [
    {
     "data": {
      "text/plain": [
       "'a'"
      ]
     },
     "execution_count": 156,
     "metadata": {},
     "output_type": "execute_result"
    }
   ],
   "source": [
    "my_dictionary[\"kk2\"][1][\"k21\"]"
   ]
  },
  {
   "cell_type": "code",
   "execution_count": 157,
   "id": "b1d91c6f",
   "metadata": {},
   "outputs": [],
   "source": [
    "# 9) Asagidaki liste set'e cevirilince hangi degerler icinde kalacaktir?\n",
    "my_list_to_be_set = [3,4,9,3,21,22,4,3,9,10,21,22]"
   ]
  },
  {
   "cell_type": "code",
   "execution_count": 158,
   "id": "386e06a2",
   "metadata": {},
   "outputs": [
    {
     "data": {
      "text/plain": [
       "{3, 4, 9, 10, 21, 22}"
      ]
     },
     "execution_count": 158,
     "metadata": {},
     "output_type": "execute_result"
    }
   ],
   "source": [
    "set(my_list_to_be_set) #{3,4,9,21,22,10}"
   ]
  },
  {
   "cell_type": "code",
   "execution_count": 159,
   "id": "7447f7b4",
   "metadata": {},
   "outputs": [
    {
     "data": {
      "text/plain": [
       "True"
      ]
     },
     "execution_count": 159,
     "metadata": {},
     "output_type": "execute_result"
    }
   ],
   "source": [
    "# 10) Asagidaki ifadenin sonucu ne olacaktir?\n",
    "x = 30 * 5 + 3 #153\n",
    "y = 108 - 2 * 4 #100\n",
    "x > y #TRUE"
   ]
  }
 ],
 "metadata": {
  "kernelspec": {
   "display_name": "Python 3",
   "language": "python",
   "name": "python3"
  },
  "language_info": {
   "codemirror_mode": {
    "name": "ipython",
    "version": 3
   },
   "file_extension": ".py",
   "mimetype": "text/x-python",
   "name": "python",
   "nbconvert_exporter": "python",
   "pygments_lexer": "ipython3",
   "version": "3.8.8"
  }
 },
 "nbformat": 4,
 "nbformat_minor": 5
}
