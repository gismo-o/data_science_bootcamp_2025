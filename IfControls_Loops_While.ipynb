{
 "cells": [
  {
   "cell_type": "code",
   "execution_count": 1,
   "id": "ed33ef7f",
   "metadata": {},
   "outputs": [],
   "source": [
    "x=5\n",
    "y=2"
   ]
  },
  {
   "cell_type": "code",
   "execution_count": 2,
   "id": "b66c3d6c",
   "metadata": {},
   "outputs": [
    {
     "data": {
      "text/plain": [
       "True"
      ]
     },
     "execution_count": 2,
     "metadata": {},
     "output_type": "execute_result"
    }
   ],
   "source": [
    "x>y"
   ]
  },
  {
   "cell_type": "code",
   "execution_count": 3,
   "id": "01d5ae20",
   "metadata": {},
   "outputs": [
    {
     "data": {
      "text/plain": [
       "False"
      ]
     },
     "execution_count": 3,
     "metadata": {},
     "output_type": "execute_result"
    }
   ],
   "source": [
    "x<y"
   ]
  },
  {
   "cell_type": "code",
   "execution_count": 4,
   "id": "b44aa3a2",
   "metadata": {},
   "outputs": [],
   "source": [
    "y=5"
   ]
  },
  {
   "cell_type": "code",
   "execution_count": 5,
   "id": "4f5d1a2e",
   "metadata": {},
   "outputs": [
    {
     "data": {
      "text/plain": [
       "(5, 5)"
      ]
     },
     "execution_count": 5,
     "metadata": {},
     "output_type": "execute_result"
    }
   ],
   "source": [
    "x,y"
   ]
  },
  {
   "cell_type": "code",
   "execution_count": 6,
   "id": "60bd5794",
   "metadata": {},
   "outputs": [
    {
     "data": {
      "text/plain": [
       "(True, True)"
      ]
     },
     "execution_count": 6,
     "metadata": {},
     "output_type": "execute_result"
    }
   ],
   "source": [
    "x>=y, x<=y"
   ]
  },
  {
   "cell_type": "code",
   "execution_count": 7,
   "id": "fd1696b1",
   "metadata": {},
   "outputs": [],
   "source": [
    "x=10"
   ]
  },
  {
   "cell_type": "code",
   "execution_count": 8,
   "id": "cc8df9a5",
   "metadata": {},
   "outputs": [],
   "source": [
    "y=8"
   ]
  },
  {
   "cell_type": "code",
   "execution_count": 9,
   "id": "f4b06b40",
   "metadata": {},
   "outputs": [],
   "source": [
    "x=y"
   ]
  },
  {
   "cell_type": "code",
   "execution_count": 10,
   "id": "a459a7b1",
   "metadata": {},
   "outputs": [
    {
     "data": {
      "text/plain": [
       "(8, 8)"
      ]
     },
     "execution_count": 10,
     "metadata": {},
     "output_type": "execute_result"
    }
   ],
   "source": [
    "x,y"
   ]
  },
  {
   "cell_type": "code",
   "execution_count": 11,
   "id": "746f007e",
   "metadata": {},
   "outputs": [
    {
     "data": {
      "text/plain": [
       "True"
      ]
     },
     "execution_count": 11,
     "metadata": {},
     "output_type": "execute_result"
    }
   ],
   "source": [
    "x==y"
   ]
  },
  {
   "cell_type": "code",
   "execution_count": 14,
   "id": "809c2193",
   "metadata": {},
   "outputs": [],
   "source": [
    "x=10"
   ]
  },
  {
   "cell_type": "code",
   "execution_count": 15,
   "id": "515d3a54",
   "metadata": {},
   "outputs": [],
   "source": [
    "y=5"
   ]
  },
  {
   "cell_type": "code",
   "execution_count": 16,
   "id": "6e308f78",
   "metadata": {},
   "outputs": [
    {
     "data": {
      "text/plain": [
       "False"
      ]
     },
     "execution_count": 16,
     "metadata": {},
     "output_type": "execute_result"
    }
   ],
   "source": [
    "x==y"
   ]
  },
  {
   "cell_type": "code",
   "execution_count": 17,
   "id": "9aa26758",
   "metadata": {},
   "outputs": [
    {
     "data": {
      "text/plain": [
       "True"
      ]
     },
     "execution_count": 17,
     "metadata": {},
     "output_type": "execute_result"
    }
   ],
   "source": [
    "x!=y"
   ]
  },
  {
   "cell_type": "code",
   "execution_count": 18,
   "id": "ab875bcd",
   "metadata": {},
   "outputs": [
    {
     "data": {
      "text/plain": [
       "True"
      ]
     },
     "execution_count": 18,
     "metadata": {},
     "output_type": "execute_result"
    }
   ],
   "source": [
    "2>1 and 3>2"
   ]
  },
  {
   "cell_type": "code",
   "execution_count": 19,
   "id": "19145d42",
   "metadata": {},
   "outputs": [
    {
     "data": {
      "text/plain": [
       "False"
      ]
     },
     "execution_count": 19,
     "metadata": {},
     "output_type": "execute_result"
    }
   ],
   "source": [
    "2>1 and 3<2"
   ]
  },
  {
   "cell_type": "code",
   "execution_count": 20,
   "id": "b1ba7d86",
   "metadata": {},
   "outputs": [
    {
     "data": {
      "text/plain": [
       "True"
      ]
     },
     "execution_count": 20,
     "metadata": {},
     "output_type": "execute_result"
    }
   ],
   "source": [
    "2>1 or 3<2"
   ]
  },
  {
   "cell_type": "code",
   "execution_count": 21,
   "id": "d64bd471",
   "metadata": {},
   "outputs": [
    {
     "data": {
      "text/plain": [
       "False"
      ]
     },
     "execution_count": 21,
     "metadata": {},
     "output_type": "execute_result"
    }
   ],
   "source": [
    "not 1==1"
   ]
  },
  {
   "cell_type": "code",
   "execution_count": 22,
   "id": "e8aa1620",
   "metadata": {},
   "outputs": [
    {
     "data": {
      "text/plain": [
       "True"
      ]
     },
     "execution_count": 22,
     "metadata": {},
     "output_type": "execute_result"
    }
   ],
   "source": [
    "10 in [10,20,30]"
   ]
  },
  {
   "cell_type": "code",
   "execution_count": 23,
   "id": "60d1350d",
   "metadata": {},
   "outputs": [
    {
     "data": {
      "text/plain": [
       "True"
      ]
     },
     "execution_count": 23,
     "metadata": {},
     "output_type": "execute_result"
    }
   ],
   "source": [
    "5 not in [10,20,30]"
   ]
  },
  {
   "cell_type": "code",
   "execution_count": 24,
   "id": "346ed3af",
   "metadata": {},
   "outputs": [],
   "source": [
    "my_dictionary={\"a\":10, \"b\":20, \"c\":30}"
   ]
  },
  {
   "cell_type": "code",
   "execution_count": 25,
   "id": "1c8875ec",
   "metadata": {},
   "outputs": [
    {
     "data": {
      "text/plain": [
       "False"
      ]
     },
     "execution_count": 25,
     "metadata": {},
     "output_type": "execute_result"
    }
   ],
   "source": [
    "10 in my_dictionary"
   ]
  },
  {
   "cell_type": "code",
   "execution_count": 26,
   "id": "c3c257d3",
   "metadata": {},
   "outputs": [
    {
     "data": {
      "text/plain": [
       "True"
      ]
     },
     "execution_count": 26,
     "metadata": {},
     "output_type": "execute_result"
    }
   ],
   "source": [
    "10 in my_dictionary.values() #değerlerin içinde 10 var mı kontrolü"
   ]
  },
  {
   "cell_type": "code",
   "execution_count": 27,
   "id": "3e5345b3",
   "metadata": {},
   "outputs": [
    {
     "data": {
      "text/plain": [
       "True"
      ]
     },
     "execution_count": 27,
     "metadata": {},
     "output_type": "execute_result"
    }
   ],
   "source": [
    "\"b\" in my_dictionary.keys() #anahtarlar içinde b var mı kontrolü"
   ]
  },
  {
   "cell_type": "code",
   "execution_count": 28,
   "id": "807079d2",
   "metadata": {},
   "outputs": [],
   "source": [
    "my_superhero=\"batman\""
   ]
  },
  {
   "cell_type": "code",
   "execution_count": 29,
   "id": "cff020b7",
   "metadata": {},
   "outputs": [
    {
     "data": {
      "text/plain": [
       "True"
      ]
     },
     "execution_count": 29,
     "metadata": {},
     "output_type": "execute_result"
    }
   ],
   "source": [
    "my_superhero==\"batman\""
   ]
  },
  {
   "cell_type": "code",
   "execution_count": 30,
   "id": "a50b8a89",
   "metadata": {},
   "outputs": [
    {
     "data": {
      "text/plain": [
       "False"
      ]
     },
     "execution_count": 30,
     "metadata": {},
     "output_type": "execute_result"
    }
   ],
   "source": [
    "my_superhero==\"superman\""
   ]
  },
  {
   "cell_type": "code",
   "execution_count": 32,
   "id": "e93da921",
   "metadata": {},
   "outputs": [
    {
     "name": "stdout",
     "output_type": "stream",
     "text": [
      "batmannnn\n",
      "gizemgizem\n",
      "supermann\n"
     ]
    }
   ],
   "source": [
    "if my_superhero==\"batman\":\n",
    "    #intentation: boşluk. pythonda boşluklar çok önemli!!!\n",
    "    print(\"batmannnn\")\n",
    "    print(\"gizemgizem\")\n",
    "#bu kısım if bloğuna dahil değil\n",
    "print(\"supermann\")"
   ]
  },
  {
   "cell_type": "code",
   "execution_count": 38,
   "id": "71642aa5",
   "metadata": {},
   "outputs": [
    {
     "name": "stdout",
     "output_type": "stream",
     "text": [
      "enter superhero: wonder woman\n"
     ]
    }
   ],
   "source": [
    "my_superhero=input(\"enter superhero: \")"
   ]
  },
  {
   "cell_type": "code",
   "execution_count": 39,
   "id": "22c4a124",
   "metadata": {},
   "outputs": [
    {
     "name": "stdout",
     "output_type": "stream",
     "text": [
      ":(\n"
     ]
    }
   ],
   "source": [
    "if my_superhero == \"superman\":\n",
    "    print(\"superman\")\n",
    "elif my_superhero ==\"batman\":\n",
    "    print(\"batman\")\n",
    "elif my_superhero ==\"aquaman\":\n",
    "    print(\"aquaman\")\n",
    "else: #hiçbir koşul sağlanmıyorsa else kullan\n",
    "    print(\":(\")"
   ]
  },
  {
   "cell_type": "code",
   "execution_count": 40,
   "id": "38018038",
   "metadata": {},
   "outputs": [
    {
     "name": "stdout",
     "output_type": "stream",
     "text": [
      "enter superhero: spider man\n"
     ]
    }
   ],
   "source": [
    "my_superhero=input(\"enter superhero: \")"
   ]
  },
  {
   "cell_type": "code",
   "execution_count": 41,
   "id": "232f04b1",
   "metadata": {},
   "outputs": [],
   "source": [
    "my_superhero_list= [\"spider man\", \"iron man\", \"thor\", \"black widow\"]"
   ]
  },
  {
   "cell_type": "code",
   "execution_count": 42,
   "id": "d2dc2457",
   "metadata": {},
   "outputs": [
    {
     "name": "stdout",
     "output_type": "stream",
     "text": [
      ":)\n"
     ]
    }
   ],
   "source": [
    "if my_superhero in my_superhero_list:\n",
    "    print(\":)\")\n",
    "else:\n",
    "    print(\":(\")"
   ]
  },
  {
   "cell_type": "markdown",
   "id": "9e481a5f",
   "metadata": {},
   "source": [
    "# LOOPS"
   ]
  },
  {
   "cell_type": "code",
   "execution_count": 43,
   "id": "d06ec23e",
   "metadata": {},
   "outputs": [],
   "source": [
    "my_list= [10,20,30,40,50,60,70]"
   ]
  },
  {
   "cell_type": "code",
   "execution_count": 44,
   "id": "16e95523",
   "metadata": {},
   "outputs": [
    {
     "data": {
      "text/plain": [
       "4.0"
      ]
     },
     "execution_count": 44,
     "metadata": {},
     "output_type": "execute_result"
    }
   ],
   "source": [
    "my_list[0] / 5 * 2"
   ]
  },
  {
   "cell_type": "code",
   "execution_count": 46,
   "id": "0a6a0d54",
   "metadata": {},
   "outputs": [
    {
     "name": "stdout",
     "output_type": "stream",
     "text": [
      "4.0\n",
      "8.0\n",
      "12.0\n",
      "16.0\n",
      "20.0\n",
      "24.0\n",
      "28.0\n"
     ]
    }
   ],
   "source": [
    "for number in my_list: #herhangi bir değişken ismi oluşturuyoruz: number\n",
    "    print(number/5 * 2)"
   ]
  },
  {
   "cell_type": "code",
   "execution_count": 48,
   "id": "0235a178",
   "metadata": {},
   "outputs": [
    {
     "name": "stdout",
     "output_type": "stream",
     "text": [
      "for loop started\n",
      "4.0\n",
      "8.0\n",
      "12.0\n",
      "16.0\n",
      "20.0\n",
      "24.0\n",
      "28.0\n",
      "for loop ended\n"
     ]
    }
   ],
   "source": [
    "print(\"for loop started\")\n",
    "for x in my_list:\n",
    "    new_number= x / 5 * 2 \n",
    "    print(new_number)\n",
    "print(\"for loop ended\")"
   ]
  },
  {
   "cell_type": "code",
   "execution_count": 93,
   "id": "14a6bcaa",
   "metadata": {},
   "outputs": [
    {
     "name": "stdout",
     "output_type": "stream",
     "text": [
      "10 sayısı 6'ya tam bölünmez\n",
      "20 sayısı 6'ya tam bölünmez\n",
      "30 sayısı 6'ya tam bölünür\n",
      "---> 30\n",
      "40 sayısı 6'ya tam bölünmez\n",
      "50 sayısı 6'ya tam bölünmez\n",
      "60 sayısı 6'ya tam bölünür\n",
      "---> 60\n",
      "70 sayısı 6'ya tam bölünmez\n"
     ]
    }
   ],
   "source": [
    "my_list= [10,20,30,40,50,60,70]\n",
    "for bolum in my_list:\n",
    "    if bolum % 6 == 0:\n",
    "        print(bolum, \"sayısı 6'ya tam bölünür\")\n",
    "        print(\"--->\",bolum)\n",
    "    else:\n",
    "        print(bolum, \"sayısı 6'ya tam bölünmez\")"
   ]
  },
  {
   "cell_type": "code",
   "execution_count": 96,
   "id": "4c0cf41d",
   "metadata": {},
   "outputs": [
    {
     "data": {
      "text/plain": [
       "(10, 20, 30, 40, 50)"
      ]
     },
     "execution_count": 96,
     "metadata": {},
     "output_type": "execute_result"
    }
   ],
   "source": [
    "my_tuple =(10,20,30,40,50)\n",
    "my_tuple"
   ]
  },
  {
   "cell_type": "code",
   "execution_count": 97,
   "id": "3802daac",
   "metadata": {},
   "outputs": [],
   "source": [
    "my_tuple_list= [(\"a\",\"b\"),(\"c\",\"d\"),(\"e\",\"f\"),(\"g\",\"h\")]"
   ]
  },
  {
   "cell_type": "code",
   "execution_count": 98,
   "id": "0d16e46e",
   "metadata": {},
   "outputs": [],
   "source": [
    "#tuple unpacking"
   ]
  },
  {
   "cell_type": "code",
   "execution_count": 99,
   "id": "f481a542",
   "metadata": {},
   "outputs": [
    {
     "name": "stdout",
     "output_type": "stream",
     "text": [
      "('a', 'b')\n",
      "('c', 'd')\n",
      "('e', 'f')\n",
      "('g', 'h')\n"
     ]
    }
   ],
   "source": [
    "for element in my_tuple_list:\n",
    "    print(element)"
   ]
  },
  {
   "cell_type": "code",
   "execution_count": 100,
   "id": "16fd217d",
   "metadata": {},
   "outputs": [
    {
     "data": {
      "text/plain": [
       "'b'"
      ]
     },
     "execution_count": 100,
     "metadata": {},
     "output_type": "execute_result"
    }
   ],
   "source": [
    "my_tuple_list[0][1]"
   ]
  },
  {
   "cell_type": "code",
   "execution_count": 102,
   "id": "de54d280",
   "metadata": {},
   "outputs": [
    {
     "name": "stdout",
     "output_type": "stream",
     "text": [
      "a\n",
      "c\n",
      "e\n",
      "g\n"
     ]
    }
   ],
   "source": [
    "for (x,y) in my_tuple_list:\n",
    "    print(x) #sadece x eksenindekileri getirir"
   ]
  },
  {
   "cell_type": "code",
   "execution_count": 103,
   "id": "e993914e",
   "metadata": {},
   "outputs": [],
   "source": [
    "my_set = {1,2,3,4,5}"
   ]
  },
  {
   "cell_type": "code",
   "execution_count": 104,
   "id": "088bdd71",
   "metadata": {},
   "outputs": [
    {
     "name": "stdout",
     "output_type": "stream",
     "text": [
      "1\n",
      "2\n",
      "3\n",
      "4\n",
      "5\n"
     ]
    }
   ],
   "source": [
    "for num in my_set:\n",
    "    print(num)"
   ]
  },
  {
   "cell_type": "code",
   "execution_count": 105,
   "id": "396ca0d0",
   "metadata": {},
   "outputs": [],
   "source": [
    "my_dictionary = {\"k1\": 100, \"k2\":200, \"k3\":300}"
   ]
  },
  {
   "cell_type": "code",
   "execution_count": 107,
   "id": "6ac8bbe1",
   "metadata": {},
   "outputs": [
    {
     "name": "stdout",
     "output_type": "stream",
     "text": [
      "k1\n",
      "k2\n",
      "k3\n"
     ]
    }
   ],
   "source": [
    "for element in my_dictionary:\n",
    "    print(element) #ne yapması gerektiğini söyelemediğimiz için sadece anahtarları getirdi"
   ]
  },
  {
   "cell_type": "code",
   "execution_count": 108,
   "id": "4b046527",
   "metadata": {},
   "outputs": [
    {
     "data": {
      "text/plain": [
       "dict_items([('k1', 100), ('k2', 200), ('k3', 300)])"
      ]
     },
     "execution_count": 108,
     "metadata": {},
     "output_type": "execute_result"
    }
   ],
   "source": [
    "my_dictionary.items() #eşleşmelerin liste içine konulmuş halini veriyor;"
   ]
  },
  {
   "cell_type": "code",
   "execution_count": 112,
   "id": "a5aaefe0",
   "metadata": {},
   "outputs": [
    {
     "name": "stdout",
     "output_type": "stream",
     "text": [
      "k1\n",
      "k2\n",
      "k3\n"
     ]
    }
   ],
   "source": [
    "for (key,value) in my_dictionary.items(): #key'leri verir\n",
    "    print(key)"
   ]
  },
  {
   "cell_type": "code",
   "execution_count": 113,
   "id": "0fcdd0f0",
   "metadata": {},
   "outputs": [
    {
     "name": "stdout",
     "output_type": "stream",
     "text": [
      "k1\n",
      "k2\n",
      "k3\n"
     ]
    }
   ],
   "source": [
    "for num in my_dictionary.keys(): #bu da aynı şekilde key'leri verir\n",
    "    print(num)"
   ]
  },
  {
   "cell_type": "code",
   "execution_count": 114,
   "id": "7c4c2cbc",
   "metadata": {},
   "outputs": [],
   "source": [
    "#CONTINUE - BREAK - PASS  bu yapılar döngü içinden çıkmamızı sağlar"
   ]
  },
  {
   "cell_type": "code",
   "execution_count": 115,
   "id": "6422cc62",
   "metadata": {},
   "outputs": [],
   "source": [
    "my_list=[10,20,30,40,50,60,70]"
   ]
  },
  {
   "cell_type": "code",
   "execution_count": 116,
   "id": "0671b28b",
   "metadata": {},
   "outputs": [
    {
     "data": {
      "text/plain": [
       "True"
      ]
     },
     "execution_count": 116,
     "metadata": {},
     "output_type": "execute_result"
    }
   ],
   "source": [
    "40 in my_list"
   ]
  },
  {
   "cell_type": "code",
   "execution_count": 145,
   "id": "3e9d61b0",
   "metadata": {},
   "outputs": [
    {
     "name": "stdout",
     "output_type": "stream",
     "text": [
      "10\n",
      "20\n",
      "30\n",
      "40\n",
      "50\n",
      "60\n",
      "70\n",
      "yes\n"
     ]
    }
   ],
   "source": [
    "for number in my_list:\n",
    "    print(number)\n",
    "    if number==70:\n",
    "        print(\"yes\")\n",
    "        break  #koşulu sağladıktan sonra döngüyü kırar, kod devam etmez"
   ]
  },
  {
   "cell_type": "code",
   "execution_count": 146,
   "id": "6eb3b198",
   "metadata": {},
   "outputs": [],
   "source": [
    "my_new_list=[10,20,30,40,50,60,70]"
   ]
  },
  {
   "cell_type": "code",
   "execution_count": 147,
   "id": "2b2f5097",
   "metadata": {},
   "outputs": [
    {
     "data": {
      "text/plain": [
       "[10, 20, 30, 40, 50, 60, 70]"
      ]
     },
     "execution_count": 147,
     "metadata": {},
     "output_type": "execute_result"
    }
   ],
   "source": [
    "my_new_list"
   ]
  },
  {
   "cell_type": "code",
   "execution_count": 157,
   "id": "176d81cc",
   "metadata": {},
   "outputs": [],
   "source": [
    "for num in my_new_list:\n",
    "    if num == 40:\n",
    "        continue\n",
    "        print(num)"
   ]
  },
  {
   "cell_type": "code",
   "execution_count": 154,
   "id": "994938ea",
   "metadata": {},
   "outputs": [
    {
     "name": "stdout",
     "output_type": "stream",
     "text": [
      "10\n",
      "20\n",
      "30\n",
      "40\n",
      "40\n",
      "50\n",
      "60\n",
      "70\n"
     ]
    }
   ],
   "source": [
    "for num in my_new_list:\n",
    "    print(num)\n",
    "    if num == 40:\n",
    "        print(num)\n",
    "        continue"
   ]
  },
  {
   "cell_type": "code",
   "execution_count": 158,
   "id": "cec8ab92",
   "metadata": {},
   "outputs": [
    {
     "name": "stdout",
     "output_type": "stream",
     "text": [
      "10\n",
      "20\n",
      "30\n",
      "50\n",
      "60\n",
      "70\n"
     ]
    }
   ],
   "source": [
    "for num in my_new_list:\n",
    "    if(num == 40):\n",
    "        continue  #döngüye devam ediyor ama sonraki komuta bakmıyor\n",
    "        print(num)\n",
    "    print(num)"
   ]
  },
  {
   "cell_type": "code",
   "execution_count": 159,
   "id": "eb822c27",
   "metadata": {},
   "outputs": [],
   "source": [
    "for num in my_new_list:\n",
    "    pass \n",
    "#kodu yazarken napacağımızı bilmiyorsak geri dönmek üzere bunu kullanırız. böylece hata vermez\n",
    "#bitmiş kodda çok görmeyiz daha çok geliştirirken, sonrasında düzeltmek için"
   ]
  },
  {
   "cell_type": "markdown",
   "id": "7d5ba4b2",
   "metadata": {},
   "source": [
    "# WHILE"
   ]
  },
  {
   "cell_type": "code",
   "execution_count": 7,
   "id": "2b5c1831",
   "metadata": {},
   "outputs": [],
   "source": [
    "x=0"
   ]
  },
  {
   "cell_type": "code",
   "execution_count": 8,
   "id": "20d5aaa8",
   "metadata": {},
   "outputs": [
    {
     "name": "stdout",
     "output_type": "stream",
     "text": [
      "while loop started\n",
      "0\n",
      "1\n",
      "2\n",
      "3\n",
      "4\n",
      "5\n",
      "6\n",
      "7\n",
      "8\n",
      "9\n",
      "while loop ended\n"
     ]
    }
   ],
   "source": [
    "print(\"while loop started\")\n",
    "while x < 10:\n",
    "    print(x)\n",
    "    x = x + 1\n",
    "print(\"while loop ended\")"
   ]
  },
  {
   "cell_type": "code",
   "execution_count": 19,
   "id": "fa3a0272",
   "metadata": {},
   "outputs": [],
   "source": [
    "last_list=[10,20,30,40,50]"
   ]
  },
  {
   "cell_type": "code",
   "execution_count": 20,
   "id": "8e47de23",
   "metadata": {},
   "outputs": [
    {
     "name": "stdout",
     "output_type": "stream",
     "text": [
      "20 in last_list\n"
     ]
    }
   ],
   "source": [
    "while 20 in last_list:\n",
    "    print(\"20 in last_list\")\n",
    "    last_list.remove(20) #20'yi listeden atarsak sonsuz döngü kalkar"
   ]
  },
  {
   "cell_type": "code",
   "execution_count": 22,
   "id": "cdd456b8",
   "metadata": {},
   "outputs": [],
   "source": [
    "while 20 in last_list:\n",
    "    print(\"20 in last_list\")\n",
    "    last_list.pop() #son elemanı atar.\n",
    "    #önce 50 yi atcak 20 hala listede\n",
    "    #sonra 40'ı atacak 20 hala listede\n",
    "    #sonra 30'u atacak 20 hala listede\n",
    "    #sonra 20'yi atacak 20 listede yok döngüyü durdur"
   ]
  },
  {
   "cell_type": "code",
   "execution_count": 26,
   "id": "4c45c57c",
   "metadata": {},
   "outputs": [
    {
     "name": "stdout",
     "output_type": "stream",
     "text": [
      "last list: [10, 30, 40, 50]\n"
     ]
    }
   ],
   "source": [
    "print(f\"last list: {last_list}\") #string içinde listeyi koymak istediğimizde.."
   ]
  },
  {
   "cell_type": "code",
   "execution_count": 27,
   "id": "d9e580ef",
   "metadata": {},
   "outputs": [
    {
     "name": "stdout",
     "output_type": "stream",
     "text": [
      "enter name: gizem\n",
      "welcome gizem\n"
     ]
    }
   ],
   "source": [
    "name=input(\"enter name: \")\n",
    "print(f\"welcome {name}\")"
   ]
  },
  {
   "cell_type": "code",
   "execution_count": 29,
   "id": "d90f65f1",
   "metadata": {},
   "outputs": [
    {
     "name": "stdout",
     "output_type": "stream",
     "text": [
      "welcome gizem\n"
     ]
    }
   ],
   "source": [
    "print(\"welcome\", name) #pythona sonradan geldi"
   ]
  },
  {
   "cell_type": "code",
   "execution_count": 30,
   "id": "43f6b0e7",
   "metadata": {},
   "outputs": [
    {
     "name": "stdout",
     "output_type": "stream",
     "text": [
      "value of p: 0\n",
      "value of p: 1\n",
      "value of p: 2\n",
      "value of p: 3\n",
      "value of p: 4\n",
      "value of p: 5\n",
      "value of p: 6\n",
      "value of p: 7\n",
      "value of p: 8\n",
      "value of p: 9\n",
      "value of p: 10\n",
      "value of p: 11\n",
      "value of p: 12\n",
      "value of p: 13\n",
      "value of p: 14\n",
      "value of p: 15\n",
      "value of p: 16\n",
      "value of p: 17\n",
      "value of p: 18\n",
      "value of p: 19\n"
     ]
    }
   ],
   "source": [
    "p=0\n",
    "while p<20:\n",
    "    print(f\"value of p: {p}\")\n",
    "    p+=1"
   ]
  },
  {
   "cell_type": "code",
   "execution_count": 31,
   "id": "d51a665a",
   "metadata": {},
   "outputs": [],
   "source": [
    "#range : içine ne koyarsan 0'dan oraya kadar yazdırır"
   ]
  },
  {
   "cell_type": "code",
   "execution_count": 32,
   "id": "a44b38fd",
   "metadata": {},
   "outputs": [
    {
     "data": {
      "text/plain": [
       "range(0, 50)"
      ]
     },
     "execution_count": 32,
     "metadata": {},
     "output_type": "execute_result"
    }
   ],
   "source": [
    "range(50) #0-50 arası rakamları dizer"
   ]
  },
  {
   "cell_type": "code",
   "execution_count": 34,
   "id": "88084c8e",
   "metadata": {},
   "outputs": [
    {
     "data": {
      "text/plain": [
       "[0, 1, 2, 3, 4, 5, 6, 7, 8, 9]"
      ]
     },
     "execution_count": 34,
     "metadata": {},
     "output_type": "execute_result"
    }
   ],
   "source": [
    "list(range(10))"
   ]
  },
  {
   "cell_type": "code",
   "execution_count": 35,
   "id": "2f7538ef",
   "metadata": {},
   "outputs": [
    {
     "name": "stdout",
     "output_type": "stream",
     "text": [
      "0\n",
      "2\n",
      "4\n",
      "6\n",
      "8\n",
      "10\n",
      "12\n",
      "14\n",
      "16\n",
      "18\n",
      "20\n",
      "22\n",
      "24\n",
      "26\n",
      "28\n",
      "30\n",
      "32\n",
      "34\n",
      "36\n",
      "38\n"
     ]
    }
   ],
   "source": [
    "for num in list(range(20)):\n",
    "    print(num * 2) \n",
    "    #20'ye kadar bütün numaraları diz ve sırasıyla 2'yle çarp"
   ]
  },
  {
   "cell_type": "code",
   "execution_count": 36,
   "id": "910839cd",
   "metadata": {},
   "outputs": [
    {
     "data": {
      "text/plain": [
       "[5, 6, 7, 8, 9, 10, 11, 12, 13, 14, 15, 16, 17, 18, 19, 20, 21, 22, 23, 24]"
      ]
     },
     "execution_count": 36,
     "metadata": {},
     "output_type": "execute_result"
    }
   ],
   "source": [
    "list(range(5,25)) #5'ten başlayıp 25(dahil değil) olan sayıları dizer"
   ]
  },
  {
   "cell_type": "code",
   "execution_count": 37,
   "id": "84391fcc",
   "metadata": {},
   "outputs": [
    {
     "data": {
      "text/plain": [
       "[5, 7, 9, 11, 13, 15, 17, 19, 21, 23]"
      ]
     },
     "execution_count": 37,
     "metadata": {},
     "output_type": "execute_result"
    }
   ],
   "source": [
    "list(range(5,25,2)) \n",
    "#5'ten başla 2şer 2şer git 25'e kadar yaz"
   ]
  },
  {
   "cell_type": "code",
   "execution_count": 38,
   "id": "2c2ac161",
   "metadata": {},
   "outputs": [],
   "source": [
    "my_list= [20,30,40,50,60]"
   ]
  },
  {
   "cell_type": "code",
   "execution_count": 39,
   "id": "a06472a3",
   "metadata": {},
   "outputs": [
    {
     "name": "stdout",
     "output_type": "stream",
     "text": [
      "20\n",
      "30\n",
      "40\n",
      "50\n",
      "60\n"
     ]
    }
   ],
   "source": [
    "for num in my_list:\n",
    "    print(num)"
   ]
  },
  {
   "cell_type": "code",
   "execution_count": 40,
   "id": "3f419bfb",
   "metadata": {},
   "outputs": [],
   "source": [
    "#indexlerini yazdıralım"
   ]
  },
  {
   "cell_type": "code",
   "execution_count": 43,
   "id": "71db94c1",
   "metadata": {},
   "outputs": [
    {
     "name": "stdout",
     "output_type": "stream",
     "text": [
      "0\n",
      "1\n",
      "2\n",
      "3\n",
      "4\n"
     ]
    }
   ],
   "source": [
    "for index in range(len(my_list)):\n",
    "    print(index)\n",
    "#len(my_list) = 5  elemanlı\n",
    "#range(len(my_list)) = 0'dan 5'e kadar yazdır"
   ]
  },
  {
   "cell_type": "code",
   "execution_count": 44,
   "id": "12bec5a4",
   "metadata": {},
   "outputs": [],
   "source": [
    "#enumerate"
   ]
  },
  {
   "cell_type": "code",
   "execution_count": 46,
   "id": "9d40473a",
   "metadata": {},
   "outputs": [
    {
     "name": "stdout",
     "output_type": "stream",
     "text": [
      "(0, 20)\n",
      "(1, 30)\n",
      "(2, 40)\n",
      "(3, 50)\n",
      "(4, 60)\n"
     ]
    }
   ],
   "source": [
    "for element in enumerate (my_list):\n",
    "    print(element)\n",
    "#indexleri ve değerleri tuple olarak verir"
   ]
  },
  {
   "cell_type": "code",
   "execution_count": 47,
   "id": "4b2c3371",
   "metadata": {},
   "outputs": [
    {
     "name": "stdout",
     "output_type": "stream",
     "text": [
      "0\n",
      "1\n",
      "2\n",
      "3\n",
      "4\n"
     ]
    }
   ],
   "source": [
    "for (index,value) in enumerate (my_list):\n",
    "    print(index)"
   ]
  },
  {
   "cell_type": "code",
   "execution_count": 48,
   "id": "863aa051",
   "metadata": {},
   "outputs": [
    {
     "name": "stdout",
     "output_type": "stream",
     "text": [
      "20\n",
      "30\n",
      "40\n",
      "50\n",
      "60\n"
     ]
    }
   ],
   "source": [
    "for (index,value) in enumerate (my_list):\n",
    "    print(value)"
   ]
  },
  {
   "cell_type": "code",
   "execution_count": 49,
   "id": "6cf0f125",
   "metadata": {},
   "outputs": [],
   "source": [
    "#random"
   ]
  },
  {
   "cell_type": "code",
   "execution_count": 50,
   "id": "ac3631de",
   "metadata": {},
   "outputs": [],
   "source": [
    "from random import randint #randint kütüphanesini import et"
   ]
  },
  {
   "cell_type": "code",
   "execution_count": 51,
   "id": "ac6d55a8",
   "metadata": {},
   "outputs": [
    {
     "data": {
      "text/plain": [
       "79"
      ]
     },
     "execution_count": 51,
     "metadata": {},
     "output_type": "execute_result"
    }
   ],
   "source": [
    "randint(0,100)"
   ]
  },
  {
   "cell_type": "code",
   "execution_count": 52,
   "id": "568e2ca2",
   "metadata": {},
   "outputs": [
    {
     "data": {
      "text/plain": [
       "13"
      ]
     },
     "execution_count": 52,
     "metadata": {},
     "output_type": "execute_result"
    }
   ],
   "source": [
    "randint(0,100)"
   ]
  },
  {
   "cell_type": "code",
   "execution_count": 56,
   "id": "370d52cb",
   "metadata": {},
   "outputs": [
    {
     "data": {
      "text/plain": [
       "[50, 60, 40, 20, 30]"
      ]
     },
     "execution_count": 56,
     "metadata": {},
     "output_type": "execute_result"
    }
   ],
   "source": [
    "from random import shuffle \n",
    "shuffle(my_list) #değerleri karıştır\n",
    "my_list"
   ]
  },
  {
   "cell_type": "code",
   "execution_count": 73,
   "id": "9e6305cb",
   "metadata": {},
   "outputs": [],
   "source": [
    "my_list=[10,20,30,40,50,90]"
   ]
  },
  {
   "cell_type": "code",
   "execution_count": 74,
   "id": "6644bc9e",
   "metadata": {},
   "outputs": [
    {
     "data": {
      "text/plain": [
       "5"
      ]
     },
     "execution_count": 74,
     "metadata": {},
     "output_type": "execute_result"
    }
   ],
   "source": [
    "randint(0,len(my_list)) #0 ile liste uzunluğu arasında random değer ver"
   ]
  },
  {
   "cell_type": "code",
   "execution_count": 75,
   "id": "bce036f4",
   "metadata": {},
   "outputs": [
    {
     "data": {
      "text/plain": [
       "90"
      ]
     },
     "execution_count": 75,
     "metadata": {},
     "output_type": "execute_result"
    }
   ],
   "source": [
    "my_list[randint(0,len(my_list))]"
   ]
  },
  {
   "cell_type": "code",
   "execution_count": 76,
   "id": "1b775ede",
   "metadata": {},
   "outputs": [
    {
     "data": {
      "text/plain": [
       "90"
      ]
     },
     "execution_count": 76,
     "metadata": {},
     "output_type": "execute_result"
    }
   ],
   "source": [
    "my_list[randint(0,len(my_list)-1)]"
   ]
  },
  {
   "cell_type": "code",
   "execution_count": 2,
   "id": "ecc04414",
   "metadata": {},
   "outputs": [],
   "source": [
    "#zip : birden fazla yapıyı bir araya getirmek-sıkıştırmak"
   ]
  },
  {
   "cell_type": "code",
   "execution_count": 3,
   "id": "08ae839b",
   "metadata": {},
   "outputs": [],
   "source": [
    "food_list = [\"apple\", \"banana\", \"melon\"]"
   ]
  },
  {
   "cell_type": "code",
   "execution_count": 4,
   "id": "c57e4521",
   "metadata": {},
   "outputs": [],
   "source": [
    "calories_list = [100,150,200]"
   ]
  },
  {
   "cell_type": "code",
   "execution_count": 5,
   "id": "91bbb59f",
   "metadata": {},
   "outputs": [],
   "source": [
    "day_list = [\"monday\", \"tuesday\", \"wednesday\"]"
   ]
  },
  {
   "cell_type": "code",
   "execution_count": 6,
   "id": "7e0d817f",
   "metadata": {},
   "outputs": [],
   "source": [
    "zipped_list = zip(food_list, calories_list, day_list)"
   ]
  },
  {
   "cell_type": "code",
   "execution_count": 7,
   "id": "d67613e8",
   "metadata": {},
   "outputs": [
    {
     "data": {
      "text/plain": [
       "<zip at 0x1f2273e4340>"
      ]
     },
     "execution_count": 7,
     "metadata": {},
     "output_type": "execute_result"
    }
   ],
   "source": [
    "zipped_list"
   ]
  },
  {
   "cell_type": "code",
   "execution_count": 8,
   "id": "a09abd2b",
   "metadata": {},
   "outputs": [
    {
     "data": {
      "text/plain": [
       "zip"
      ]
     },
     "execution_count": 8,
     "metadata": {},
     "output_type": "execute_result"
    }
   ],
   "source": [
    "type(zipped_list) "
   ]
  },
  {
   "cell_type": "code",
   "execution_count": 9,
   "id": "ae37a08c",
   "metadata": {},
   "outputs": [],
   "source": [
    "#işe yaramayan bir type türü olduğundan bunu şu şekilde kullanalım:"
   ]
  },
  {
   "cell_type": "code",
   "execution_count": 10,
   "id": "24ce2870",
   "metadata": {},
   "outputs": [],
   "source": [
    "zipped_list = list(zip(food_list, calories_list, day_list))"
   ]
  },
  {
   "cell_type": "code",
   "execution_count": 11,
   "id": "8ea9b57c",
   "metadata": {},
   "outputs": [
    {
     "data": {
      "text/plain": [
       "list"
      ]
     },
     "execution_count": 11,
     "metadata": {},
     "output_type": "execute_result"
    }
   ],
   "source": [
    "type(zipped_list)"
   ]
  },
  {
   "cell_type": "code",
   "execution_count": 12,
   "id": "670412da",
   "metadata": {},
   "outputs": [
    {
     "data": {
      "text/plain": [
       "[('apple', 100, 'monday'),\n",
       " ('banana', 150, 'tuesday'),\n",
       " ('melon', 200, 'wednesday')]"
      ]
     },
     "execution_count": 12,
     "metadata": {},
     "output_type": "execute_result"
    }
   ],
   "source": [
    "zipped_list"
   ]
  },
  {
   "cell_type": "code",
   "execution_count": 15,
   "id": "29582404",
   "metadata": {},
   "outputs": [],
   "source": [
    "new_list= []\n",
    "my_string = \"metallica\"\n",
    "\n",
    "for element in my_string:\n",
    "    new_list.append(element) #append ile listeye ekledik her bir harfi"
   ]
  },
  {
   "cell_type": "code",
   "execution_count": 16,
   "id": "a747a038",
   "metadata": {},
   "outputs": [
    {
     "data": {
      "text/plain": [
       "['m', 'e', 't', 'a', 'l', 'l', 'i', 'c', 'a']"
      ]
     },
     "execution_count": 16,
     "metadata": {},
     "output_type": "execute_result"
    }
   ],
   "source": [
    "new_list"
   ]
  },
  {
   "cell_type": "code",
   "execution_count": 17,
   "id": "08e052f1",
   "metadata": {},
   "outputs": [],
   "source": [
    "#list comprehension"
   ]
  },
  {
   "cell_type": "code",
   "execution_count": null,
   "id": "e98cac66",
   "metadata": {},
   "outputs": [],
   "source": [
    "# new_list = [element for element in my_string]\n",
    "# her şeyi liste parantezinde yazarak liste olacağını belirttik\n",
    "# for element in my_string burdan aldığın her elemanı element'a koy\n"
   ]
  },
  {
   "cell_type": "code",
   "execution_count": 19,
   "id": "12c7ed65",
   "metadata": {},
   "outputs": [
    {
     "data": {
      "text/plain": [
       "['m', 'e', 't', 'a', 'l', 'l', 'i', 'c', 'a']"
      ]
     },
     "execution_count": 19,
     "metadata": {},
     "output_type": "execute_result"
    }
   ],
   "source": [
    "new_list"
   ]
  },
  {
   "cell_type": "code",
   "execution_count": 20,
   "id": "c80f8948",
   "metadata": {},
   "outputs": [],
   "source": [
    "number_list = [10,20,30,40,50,60]"
   ]
  },
  {
   "cell_type": "code",
   "execution_count": 21,
   "id": "b6d2c70b",
   "metadata": {},
   "outputs": [],
   "source": [
    "new_number_list = [num for num in number_list]"
   ]
  },
  {
   "cell_type": "code",
   "execution_count": 22,
   "id": "885e181d",
   "metadata": {},
   "outputs": [
    {
     "data": {
      "text/plain": [
       "[10, 20, 30, 40, 50, 60]"
      ]
     },
     "execution_count": 22,
     "metadata": {},
     "output_type": "execute_result"
    }
   ],
   "source": [
    "new_number_list"
   ]
  },
  {
   "cell_type": "code",
   "execution_count": 23,
   "id": "9ae6bc6b",
   "metadata": {},
   "outputs": [],
   "source": [
    "new_number_list2 = [num/2 for num in number_list]"
   ]
  },
  {
   "cell_type": "code",
   "execution_count": 24,
   "id": "1958d949",
   "metadata": {},
   "outputs": [
    {
     "data": {
      "text/plain": [
       "[5.0, 10.0, 15.0, 20.0, 25.0, 30.0]"
      ]
     },
     "execution_count": 24,
     "metadata": {},
     "output_type": "execute_result"
    }
   ],
   "source": [
    "new_number_list2"
   ]
  },
  {
   "cell_type": "code",
   "execution_count": 25,
   "id": "cda7a910",
   "metadata": {},
   "outputs": [],
   "source": [
    "new_number_list= []\n",
    "for num in number_list:\n",
    "    new_number_list.append(num/2)"
   ]
  },
  {
   "cell_type": "code",
   "execution_count": 26,
   "id": "9dd2e4ed",
   "metadata": {},
   "outputs": [
    {
     "data": {
      "text/plain": [
       "[5.0, 10.0, 15.0, 20.0, 25.0, 30.0]"
      ]
     },
     "execution_count": 26,
     "metadata": {},
     "output_type": "execute_result"
    }
   ],
   "source": [
    "new_number_list"
   ]
  },
  {
   "cell_type": "markdown",
   "id": "66c0744a",
   "metadata": {},
   "source": [
    "# QUIZ - 2"
   ]
  },
  {
   "cell_type": "code",
   "execution_count": 27,
   "id": "ac0f4516",
   "metadata": {},
   "outputs": [
    {
     "data": {
      "text/plain": [
       "True"
      ]
     },
     "execution_count": 27,
     "metadata": {},
     "output_type": "execute_result"
    }
   ],
   "source": [
    "# 1) Aşağıdaki kodun çıktısı ne olacaktır?\n",
    "x = 5\n",
    "y = 3\n",
    "z = 6\n",
    "x > y and z > x\n",
    "#true"
   ]
  },
  {
   "cell_type": "code",
   "execution_count": 28,
   "id": "6298a908",
   "metadata": {},
   "outputs": [
    {
     "data": {
      "text/plain": [
       "True"
      ]
     },
     "execution_count": 28,
     "metadata": {},
     "output_type": "execute_result"
    }
   ],
   "source": [
    "# 2) Aynı değerlerle kod şu şekilde değiştilirse çıktı ne olacaktır?\n",
    "x < y or z > y\n",
    "#true"
   ]
  },
  {
   "cell_type": "code",
   "execution_count": 29,
   "id": "12bd28b2",
   "metadata": {},
   "outputs": [
    {
     "data": {
      "text/plain": [
       "'\\nyas = 20\\n\\nif yas < 18:\\n    print(\"18 yaşından küçüksünüz\")\\nelif yas >= 18 and yas < 30:\\n    print(\"18 ile 30 yaş arasında bir gençsiniz\")\\nelif yas >= 30 and yas < 40:\\n    print(\"30 ve 40 arasına gelmişsiniz\")\\nelse:\\n    print(\"40 yaşından daha büyüksünüz\")\\n'"
      ]
     },
     "execution_count": 29,
     "metadata": {},
     "output_type": "execute_result"
    }
   ],
   "source": [
    "# 3) Aşağıdaki kodun çıktısı ne olacaktır?\n",
    "'''\n",
    "yas = 20\n",
    "\n",
    "if yas < 18:\n",
    "    print(\"18 yaşından küçüksünüz\")\n",
    "elif yas >= 18 and yas < 30:\n",
    "    print(\"18 ile 30 yaş arasında bir gençsiniz\")\n",
    "elif yas >= 30 and yas < 40:\n",
    "    print(\"30 ve 40 arasına gelmişsiniz\")\n",
    "else:\n",
    "    print(\"40 yaşından daha büyüksünüz\")\n",
    "'''"
   ]
  },
  {
   "cell_type": "code",
   "execution_count": 30,
   "id": "059957a2",
   "metadata": {},
   "outputs": [
    {
     "name": "stdout",
     "output_type": "stream",
     "text": [
      "18 ile 30 yaş arasında bir gençsiniz\n"
     ]
    }
   ],
   "source": [
    "yas=20\n",
    "\n",
    "if yas<18:\n",
    "    print(\"18 yaşından küçüksünüz\")\n",
    "elif yas >= 18 and yas<30:\n",
    "    print(\"18 ile 30 yaş arasında bir gençsiniz\")\n",
    "elif yas>= 30 and yas<40:\n",
    "    print(\"30 ve 40 arasına gelmişsiniz\")\n",
    "else:\n",
    "    print(\"40 yaşından daha büyüksünüz\")\n",
    "\n",
    "#18 ile 30 yaş arasında bir gençsiniz"
   ]
  },
  {
   "cell_type": "code",
   "execution_count": 31,
   "id": "4e221631",
   "metadata": {},
   "outputs": [],
   "source": [
    "#4) Aşağıdaki sözlükte, değerler içinde c harfinin geçip geçmediğini gösteren bir if koşulu yazınız\n",
    "my_dictionary = {\"k1\":10,\"k2k\":\"a\",\"k32\":30,\"k4\":\"c\"}"
   ]
  },
  {
   "cell_type": "code",
   "execution_count": 40,
   "id": "22ad60d8",
   "metadata": {},
   "outputs": [
    {
     "name": "stdout",
     "output_type": "stream",
     "text": [
      "sözlük içinde c değeri var\n"
     ]
    }
   ],
   "source": [
    "if (\"c\" in my_dictionary.values()):\n",
    "    print(\"sözlük içinde c değeri var\")\n",
    "else:\n",
    "    print(\"sözlük içinde c değeri yok\")"
   ]
  },
  {
   "cell_type": "code",
   "execution_count": 41,
   "id": "414fd3f7",
   "metadata": {},
   "outputs": [],
   "source": [
    "#5) Aşağıdaki sözlükte, anahtarlar içinde a harfinin geçip geçmediğini gösteren bir if koşulu yazınız\n",
    "my_other_dictionary = {\"b\":203,\"c\":\"a\",\"a\":400,\"d\":\"f\"}"
   ]
  },
  {
   "cell_type": "code",
   "execution_count": 44,
   "id": "d51e8f74",
   "metadata": {},
   "outputs": [
    {
     "name": "stdout",
     "output_type": "stream",
     "text": [
      "anahtarlar içinde a harfi geçmekte\n"
     ]
    }
   ],
   "source": [
    "if(\"a\" in my_other_dictionary.keys()):\n",
    "    print(\"anahtarlar içinde a harfi geçmekte\")\n",
    "else:\n",
    "    print(\"anahtarlar içinde a harfi geçmemekte\")"
   ]
  },
  {
   "cell_type": "code",
   "execution_count": 45,
   "id": "94329118",
   "metadata": {},
   "outputs": [],
   "source": [
    "#6) Aşağıdaki listedeki sayılardan sadece çift sayı olanları yazdıran bir kod yazınız.\n",
    "my_numbers = [1,2,3,4,5,6,19,20,32,21,20,1111,23,24]"
   ]
  },
  {
   "cell_type": "code",
   "execution_count": 57,
   "id": "7350790c",
   "metadata": {},
   "outputs": [
    {
     "name": "stdout",
     "output_type": "stream",
     "text": [
      "2\n",
      "4\n",
      "6\n",
      "20\n",
      "32\n",
      "20\n",
      "24\n"
     ]
    }
   ],
   "source": [
    "for number in my_numbers:\n",
    "    if(number %2 == 0):\n",
    "        print(number) "
   ]
  },
  {
   "cell_type": "code",
   "execution_count": 73,
   "id": "7965ef76",
   "metadata": {},
   "outputs": [],
   "source": [
    "#7) Aşağıdaki listedeki sayılar bir dairenin yarı çapını vermektedir. \n",
    "#Tüm dairelerin çevresini içeren başka yeni bir liste oluşturunuz. (İpucu: 2 * pi * r)  Pi 3.14 alınabilir.\n",
    "r_list = [3,2,5,8,4,6,9,12]"
   ]
  },
  {
   "cell_type": "code",
   "execution_count": 75,
   "id": "f3f96814",
   "metadata": {},
   "outputs": [
    {
     "name": "stdout",
     "output_type": "stream",
     "text": [
      "[18.84, 12.56, 31.400000000000002, 50.24, 25.12, 37.68, 56.52, 75.36]\n"
     ]
    }
   ],
   "source": [
    "pi=3.14\n",
    "new_r_list=[]\n",
    "for r in r_list:\n",
    "    new_r_list.append(2*pi*r)\n",
    "print(new_r_list)"
   ]
  },
  {
   "cell_type": "code",
   "execution_count": 76,
   "id": "2ef6d565",
   "metadata": {},
   "outputs": [],
   "source": [
    "#8) Aşağıdaki listede isim - yaş eşleşmelerinin bulunduğu yapılar mevcuttur.\n",
    "# Sadece yaşların olduğu yeni ve ayrı bir liste oluşturunuz.\n",
    "age_name_list = [(\"Ahmet\",30),(\"Ayse\",24),(\"Mehmet\",40),(\"Fatma\",29)]"
   ]
  },
  {
   "cell_type": "code",
   "execution_count": 88,
   "id": "5f0f6c7c",
   "metadata": {},
   "outputs": [],
   "source": [
    "new_age_list= []\n",
    "for value,key in age_name_list:\n",
    "    new_age_list.append(key)"
   ]
  },
  {
   "cell_type": "code",
   "execution_count": 89,
   "id": "34236721",
   "metadata": {},
   "outputs": [
    {
     "name": "stdout",
     "output_type": "stream",
     "text": [
      "[30, 24, 40, 29]\n"
     ]
    }
   ],
   "source": [
    "print(new_age_list)"
   ]
  },
  {
   "cell_type": "code",
   "execution_count": 90,
   "id": "7c053c39",
   "metadata": {},
   "outputs": [],
   "source": [
    "#9) Aşağıdaki müzik gruplarından birini rastgele yazdıran bir kod yazınız\n",
    "metal_list = [\"Metallica\",\"Iron Maiden\",\"Dream Theater\",\"Megadeth\",\"AC/DC\"]"
   ]
  },
  {
   "cell_type": "code",
   "execution_count": 123,
   "id": "2ee77729",
   "metadata": {},
   "outputs": [
    {
     "data": {
      "text/plain": [
       "'Dream Theater'"
      ]
     },
     "execution_count": 123,
     "metadata": {},
     "output_type": "execute_result"
    }
   ],
   "source": [
    "from random import randint\n",
    "metal_list[randint(0,len(metal_list)-1)]"
   ]
  },
  {
   "cell_type": "code",
   "execution_count": 124,
   "id": "8d7dc504",
   "metadata": {},
   "outputs": [],
   "source": [
    "#10) Aşağıdaki kodun çıktısı ne olacaktır?\n",
    "number_list = [5,7,18,21,20,10,405,24]"
   ]
  },
  {
   "cell_type": "code",
   "execution_count": 126,
   "id": "f6cb20b6",
   "metadata": {},
   "outputs": [
    {
     "data": {
      "text/plain": [
       "[False, False, True, False, True, True, False, True]"
      ]
     },
     "execution_count": 126,
     "metadata": {},
     "output_type": "execute_result"
    }
   ],
   "source": [
    "[num % 2 == 0 for num in number_list]\n",
    "#18,20,10,24 ->true BURDAKİ YAPI KONTROL EDER BOOLEAN YAPI DÖNER !!"
   ]
  }
 ],
 "metadata": {
  "kernelspec": {
   "display_name": "Python 3",
   "language": "python",
   "name": "python3"
  },
  "language_info": {
   "codemirror_mode": {
    "name": "ipython",
    "version": 3
   },
   "file_extension": ".py",
   "mimetype": "text/x-python",
   "name": "python",
   "nbconvert_exporter": "python",
   "pygments_lexer": "ipython3",
   "version": "3.8.8"
  }
 },
 "nbformat": 4,
 "nbformat_minor": 5
}
