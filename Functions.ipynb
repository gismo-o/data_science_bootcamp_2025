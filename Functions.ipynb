{
 "cells": [
  {
   "cell_type": "code",
   "execution_count": 2,
   "id": "92eb7039",
   "metadata": {},
   "outputs": [],
   "source": [
    "# method vs function"
   ]
  },
  {
   "cell_type": "code",
   "execution_count": 3,
   "id": "6029a901",
   "metadata": {},
   "outputs": [],
   "source": [
    "my_name = \"gizem\""
   ]
  },
  {
   "cell_type": "code",
   "execution_count": 4,
   "id": "6d57d886",
   "metadata": {},
   "outputs": [
    {
     "data": {
      "text/plain": [
       "'GIZEM'"
      ]
     },
     "execution_count": 4,
     "metadata": {},
     "output_type": "execute_result"
    }
   ],
   "source": [
    "my_name.upper() #bu şekilde kalıcı değil"
   ]
  },
  {
   "cell_type": "code",
   "execution_count": 5,
   "id": "2be6b4c4",
   "metadata": {},
   "outputs": [
    {
     "data": {
      "text/plain": [
       "'gizem'"
      ]
     },
     "execution_count": 5,
     "metadata": {},
     "output_type": "execute_result"
    }
   ],
   "source": [
    "my_name"
   ]
  },
  {
   "cell_type": "code",
   "execution_count": 6,
   "id": "d66da627",
   "metadata": {},
   "outputs": [],
   "source": [
    "my_name_upper = my_name.upper() # atama işlemi kalıcı hale getirir"
   ]
  },
  {
   "cell_type": "code",
   "execution_count": 7,
   "id": "c7c7e419",
   "metadata": {},
   "outputs": [
    {
     "data": {
      "text/plain": [
       "'GIZEM'"
      ]
     },
     "execution_count": 7,
     "metadata": {},
     "output_type": "execute_result"
    }
   ],
   "source": [
    "my_name_upper"
   ]
  },
  {
   "cell_type": "code",
   "execution_count": 8,
   "id": "dcec47fb",
   "metadata": {},
   "outputs": [
    {
     "data": {
      "text/plain": [
       "'gizem'"
      ]
     },
     "execution_count": 8,
     "metadata": {},
     "output_type": "execute_result"
    }
   ],
   "source": [
    "my_name"
   ]
  },
  {
   "cell_type": "code",
   "execution_count": 9,
   "id": "bffcb6f1",
   "metadata": {},
   "outputs": [],
   "source": [
    "# functions"
   ]
  },
  {
   "cell_type": "code",
   "execution_count": 11,
   "id": "0def54b9",
   "metadata": {},
   "outputs": [],
   "source": [
    "def hello_python():\n",
    "    print(\"hello\")"
   ]
  },
  {
   "cell_type": "code",
   "execution_count": 13,
   "id": "aa5d77d5",
   "metadata": {},
   "outputs": [
    {
     "data": {
      "text/plain": [
       "<function __main__.hello_python()>"
      ]
     },
     "execution_count": 13,
     "metadata": {},
     "output_type": "execute_result"
    }
   ],
   "source": [
    "hello_python"
   ]
  },
  {
   "cell_type": "code",
   "execution_count": 14,
   "id": "a1279d48",
   "metadata": {},
   "outputs": [],
   "source": [
    "#böyle bir fonskiyon olduğunu belirtiyor"
   ]
  },
  {
   "cell_type": "code",
   "execution_count": 17,
   "id": "fd8474d4",
   "metadata": {},
   "outputs": [
    {
     "name": "stdout",
     "output_type": "stream",
     "text": [
      "hello\n"
     ]
    }
   ],
   "source": [
    "hello_python() #fonksiyonu çağırdık"
   ]
  },
  {
   "cell_type": "code",
   "execution_count": 18,
   "id": "fc2e398c",
   "metadata": {},
   "outputs": [],
   "source": [
    "#input"
   ]
  },
  {
   "cell_type": "code",
   "execution_count": 26,
   "id": "bd52c135",
   "metadata": {},
   "outputs": [],
   "source": [
    "def hello_name(name):\n",
    "    print(\"hello\")\n",
    "    print(name)\n",
    "    #parametre istediğimizde"
   ]
  },
  {
   "cell_type": "code",
   "execution_count": 27,
   "id": "542974a9",
   "metadata": {},
   "outputs": [
    {
     "name": "stdout",
     "output_type": "stream",
     "text": [
      "hello\n",
      "gizem\n"
     ]
    }
   ],
   "source": [
    "hello_name(\"gizem\")"
   ]
  },
  {
   "cell_type": "code",
   "execution_count": 28,
   "id": "323f8f53",
   "metadata": {},
   "outputs": [],
   "source": [
    "def sum_example(num1, num2):\n",
    "    print(num1+num2)"
   ]
  },
  {
   "cell_type": "code",
   "execution_count": 29,
   "id": "823ba8d3",
   "metadata": {},
   "outputs": [
    {
     "name": "stdout",
     "output_type": "stream",
     "text": [
      "15\n"
     ]
    }
   ],
   "source": [
    "sum_example(5,10)"
   ]
  },
  {
   "cell_type": "code",
   "execution_count": 30,
   "id": "48e4a6c9",
   "metadata": {},
   "outputs": [],
   "source": [
    "def sum_example(num1,num2):\n",
    "    num3=num1+num2\n",
    "    print(num3)"
   ]
  },
  {
   "cell_type": "code",
   "execution_count": 31,
   "id": "0377ad4e",
   "metadata": {},
   "outputs": [
    {
     "name": "stdout",
     "output_type": "stream",
     "text": [
      "32\n"
     ]
    }
   ],
   "source": [
    "sum_example(20,12)"
   ]
  },
  {
   "cell_type": "code",
   "execution_count": 32,
   "id": "8aac3421",
   "metadata": {},
   "outputs": [],
   "source": [
    "def hello_surname(surname=\"koz\"): #optional\n",
    "    print(\"hello\")\n",
    "    print(surname)"
   ]
  },
  {
   "cell_type": "code",
   "execution_count": 33,
   "id": "5b3a4a6b",
   "metadata": {},
   "outputs": [
    {
     "name": "stdout",
     "output_type": "stream",
     "text": [
      "hello\n",
      "giz\n"
     ]
    }
   ],
   "source": [
    "hello_surname(\"giz\")"
   ]
  },
  {
   "cell_type": "code",
   "execution_count": 34,
   "id": "3a9e6082",
   "metadata": {},
   "outputs": [
    {
     "name": "stdout",
     "output_type": "stream",
     "text": [
      "hello\n",
      "koz\n"
     ]
    }
   ],
   "source": [
    "#eğer boş yazarsam default verilen değeri getirir\n",
    "hello_surname()"
   ]
  },
  {
   "cell_type": "code",
   "execution_count": 35,
   "id": "bca4e8b1",
   "metadata": {},
   "outputs": [],
   "source": [
    "#return"
   ]
  },
  {
   "cell_type": "code",
   "execution_count": 37,
   "id": "3512f333",
   "metadata": {},
   "outputs": [],
   "source": [
    "def summation(num1,num2,num3):\n",
    "    print(num1+num2+num3)"
   ]
  },
  {
   "cell_type": "code",
   "execution_count": 38,
   "id": "3a02a813",
   "metadata": {},
   "outputs": [
    {
     "name": "stdout",
     "output_type": "stream",
     "text": [
      "20\n"
     ]
    }
   ],
   "source": [
    "summation(10,2,8)"
   ]
  },
  {
   "cell_type": "code",
   "execution_count": 39,
   "id": "92113619",
   "metadata": {},
   "outputs": [
    {
     "name": "stdout",
     "output_type": "stream",
     "text": [
      "20\n"
     ]
    }
   ],
   "source": [
    "x=summation(10,2,8)"
   ]
  },
  {
   "cell_type": "code",
   "execution_count": 40,
   "id": "1f4130dd",
   "metadata": {},
   "outputs": [],
   "source": [
    "x"
   ]
  },
  {
   "cell_type": "code",
   "execution_count": 41,
   "id": "3cd5569c",
   "metadata": {},
   "outputs": [
    {
     "name": "stdout",
     "output_type": "stream",
     "text": [
      "None\n"
     ]
    }
   ],
   "source": [
    "print(x) #fonksiyon bir şey döndürmediği için yazdırınca işi bitiyor"
   ]
  },
  {
   "cell_type": "code",
   "execution_count": 42,
   "id": "e1d74142",
   "metadata": {},
   "outputs": [
    {
     "data": {
      "text/plain": [
       "NoneType"
      ]
     },
     "execution_count": 42,
     "metadata": {},
     "output_type": "execute_result"
    }
   ],
   "source": [
    "type(x)"
   ]
  },
  {
   "cell_type": "code",
   "execution_count": 43,
   "id": "4d976ff5",
   "metadata": {},
   "outputs": [],
   "source": [
    "def return_summation(num1,num2,num3):\n",
    "    return num1+num2+num3"
   ]
  },
  {
   "cell_type": "code",
   "execution_count": 44,
   "id": "be139d2f",
   "metadata": {},
   "outputs": [
    {
     "data": {
      "text/plain": [
       "20"
      ]
     },
     "execution_count": 44,
     "metadata": {},
     "output_type": "execute_result"
    }
   ],
   "source": [
    "return_summation(10,2,8)"
   ]
  },
  {
   "cell_type": "code",
   "execution_count": 45,
   "id": "b5779526",
   "metadata": {},
   "outputs": [],
   "source": [
    "x=return_summation(10,2,8)"
   ]
  },
  {
   "cell_type": "code",
   "execution_count": 46,
   "id": "cd1f1535",
   "metadata": {},
   "outputs": [
    {
     "data": {
      "text/plain": [
       "20"
      ]
     },
     "execution_count": 46,
     "metadata": {},
     "output_type": "execute_result"
    }
   ],
   "source": [
    "x"
   ]
  },
  {
   "cell_type": "code",
   "execution_count": 47,
   "id": "801de22c",
   "metadata": {},
   "outputs": [],
   "source": [
    "def control_string(s):\n",
    "    if s[0]== \"a\":\n",
    "        print(\"a\")"
   ]
  },
  {
   "cell_type": "code",
   "execution_count": 48,
   "id": "0e9cdc6a",
   "metadata": {},
   "outputs": [],
   "source": [
    "control_string(\"gizem\")"
   ]
  },
  {
   "cell_type": "code",
   "execution_count": 49,
   "id": "1012f0ce",
   "metadata": {},
   "outputs": [
    {
     "name": "stdout",
     "output_type": "stream",
     "text": [
      "a\n"
     ]
    }
   ],
   "source": [
    "control_string(\"ata\")"
   ]
  },
  {
   "cell_type": "code",
   "execution_count": 50,
   "id": "3867ce84",
   "metadata": {},
   "outputs": [],
   "source": [
    "#args, kwargs (arguments, key word arguments)"
   ]
  },
  {
   "cell_type": "code",
   "execution_count": 51,
   "id": "0e35351d",
   "metadata": {},
   "outputs": [],
   "source": [
    "def args_sum(*args): #ne kadar argüman vereceğimiz belli olmadığında args kullanırız\n",
    "    return sum(args)"
   ]
  },
  {
   "cell_type": "code",
   "execution_count": 52,
   "id": "6900a6c6",
   "metadata": {},
   "outputs": [
    {
     "data": {
      "text/plain": [
       "210"
      ]
     },
     "execution_count": 52,
     "metadata": {},
     "output_type": "execute_result"
    }
   ],
   "source": [
    "args_sum(10,20,30,40,50,60)"
   ]
  },
  {
   "cell_type": "code",
   "execution_count": 53,
   "id": "01fd6bb1",
   "metadata": {},
   "outputs": [],
   "source": [
    "def args_example(*args):\n",
    "    print(args)"
   ]
  },
  {
   "cell_type": "code",
   "execution_count": 54,
   "id": "b4c74a85",
   "metadata": {},
   "outputs": [
    {
     "name": "stdout",
     "output_type": "stream",
     "text": [
      "(123, 159, 896, 743)\n"
     ]
    }
   ],
   "source": [
    "args_example(123,159,896,743)"
   ]
  },
  {
   "cell_type": "code",
   "execution_count": 55,
   "id": "a8b97170",
   "metadata": {},
   "outputs": [],
   "source": [
    "def kwargs_example(**kwargs): #dictionary oluşturur\n",
    "    print(kwargs)"
   ]
  },
  {
   "cell_type": "code",
   "execution_count": 56,
   "id": "879160c6",
   "metadata": {},
   "outputs": [
    {
     "name": "stdout",
     "output_type": "stream",
     "text": [
      "{'apple': 100, 'banana': 150, 'melon': 200}\n"
     ]
    }
   ],
   "source": [
    "kwargs_example(apple=100, banana=150, melon=200)"
   ]
  },
  {
   "cell_type": "code",
   "execution_count": 57,
   "id": "16228096",
   "metadata": {},
   "outputs": [],
   "source": [
    "def kwargs_example_2(**kwargs):\n",
    "    if \"apple\" in kwargs:\n",
    "        print (\"appleeeee\")\n",
    "    else:\n",
    "        print(\":(\")"
   ]
  },
  {
   "cell_type": "code",
   "execution_count": 58,
   "id": "8a04ca3d",
   "metadata": {},
   "outputs": [
    {
     "name": "stdout",
     "output_type": "stream",
     "text": [
      "appleeeee\n"
     ]
    }
   ],
   "source": [
    "kwargs_example_2(apple=10, banana=15)"
   ]
  },
  {
   "cell_type": "code",
   "execution_count": 59,
   "id": "44be46bd",
   "metadata": {},
   "outputs": [
    {
     "name": "stdout",
     "output_type": "stream",
     "text": [
      ":(\n"
     ]
    }
   ],
   "source": [
    "kwargs_example_2(banana=15)"
   ]
  },
  {
   "cell_type": "code",
   "execution_count": 60,
   "id": "d21aa19d",
   "metadata": {},
   "outputs": [],
   "source": [
    "# Practical Functions"
   ]
  },
  {
   "cell_type": "code",
   "execution_count": 61,
   "id": "052d5a6a",
   "metadata": {},
   "outputs": [],
   "source": [
    "def divideNumber(number):\n",
    "    return number/2"
   ]
  },
  {
   "cell_type": "code",
   "execution_count": 62,
   "id": "88c45839",
   "metadata": {},
   "outputs": [
    {
     "data": {
      "text/plain": [
       "10.0"
      ]
     },
     "execution_count": 62,
     "metadata": {},
     "output_type": "execute_result"
    }
   ],
   "source": [
    "divideNumber(20)"
   ]
  },
  {
   "cell_type": "code",
   "execution_count": 64,
   "id": "cd5f66ff",
   "metadata": {},
   "outputs": [],
   "source": [
    "myList= [9865,42,74,36,8]"
   ]
  },
  {
   "cell_type": "code",
   "execution_count": 68,
   "id": "d1c57461",
   "metadata": {},
   "outputs": [
    {
     "name": "stdout",
     "output_type": "stream",
     "text": [
      "[4932.5, 21.0, 37.0, 18.0, 4.0]\n"
     ]
    }
   ],
   "source": [
    "myResultList=[]\n",
    "for number in myList:\n",
    "    myResultList.append(divideNumber(number))\n",
    "print(myResultList)"
   ]
  },
  {
   "cell_type": "markdown",
   "id": "34b023d7",
   "metadata": {},
   "source": [
    "# map function"
   ]
  },
  {
   "cell_type": "code",
   "execution_count": 72,
   "id": "6002675b",
   "metadata": {},
   "outputs": [
    {
     "data": {
      "text/plain": [
       "<map at 0x28f03034f10>"
      ]
     },
     "execution_count": 72,
     "metadata": {},
     "output_type": "execute_result"
    }
   ],
   "source": [
    "map(divideNumber,myList) #myList içindeki tüm elemanlara divideNumber'ı uyguluyor"
   ]
  },
  {
   "cell_type": "code",
   "execution_count": 73,
   "id": "c05a95fa",
   "metadata": {},
   "outputs": [
    {
     "data": {
      "text/plain": [
       "[4932.5, 21.0, 37.0, 18.0, 4.0]"
      ]
     },
     "execution_count": 73,
     "metadata": {},
     "output_type": "execute_result"
    }
   ],
   "source": [
    "list(map(divideNumber,myList))"
   ]
  },
  {
   "cell_type": "code",
   "execution_count": 74,
   "id": "4313a3ca",
   "metadata": {},
   "outputs": [],
   "source": [
    "def control_string(string):\n",
    "    return \"Gizem\" in string"
   ]
  },
  {
   "cell_type": "code",
   "execution_count": 75,
   "id": "82695f38",
   "metadata": {},
   "outputs": [
    {
     "data": {
      "text/plain": [
       "True"
      ]
     },
     "execution_count": 75,
     "metadata": {},
     "output_type": "execute_result"
    }
   ],
   "source": [
    "control_string(\"Gizem\")"
   ]
  },
  {
   "cell_type": "code",
   "execution_count": 76,
   "id": "b8219c84",
   "metadata": {},
   "outputs": [
    {
     "data": {
      "text/plain": [
       "False"
      ]
     },
     "execution_count": 76,
     "metadata": {},
     "output_type": "execute_result"
    }
   ],
   "source": [
    "control_string(\"ilayda\")"
   ]
  },
  {
   "cell_type": "code",
   "execution_count": 80,
   "id": "632e9a40",
   "metadata": {},
   "outputs": [],
   "source": [
    "myStringList= [\"Gizem\", \"ilayda\", \"koz\"]"
   ]
  },
  {
   "cell_type": "code",
   "execution_count": 81,
   "id": "182e697d",
   "metadata": {},
   "outputs": [
    {
     "data": {
      "text/plain": [
       "[True, False, False]"
      ]
     },
     "execution_count": 81,
     "metadata": {},
     "output_type": "execute_result"
    }
   ],
   "source": [
    "list(map(control_string,myStringList))"
   ]
  },
  {
   "cell_type": "markdown",
   "id": "9ed840c0",
   "metadata": {},
   "source": [
    "# filter"
   ]
  },
  {
   "cell_type": "code",
   "execution_count": 83,
   "id": "d6b9f6d4",
   "metadata": {},
   "outputs": [
    {
     "data": {
      "text/plain": [
       "['Gizem']"
      ]
     },
     "execution_count": 83,
     "metadata": {},
     "output_type": "execute_result"
    }
   ],
   "source": [
    "list(filter(control_string,myStringList)) #içinde Gizem geçenleri filtreliyor"
   ]
  },
  {
   "cell_type": "markdown",
   "id": "0466710a",
   "metadata": {},
   "source": [
    "# lambda : sadece bir kez kullancaksak hız ve pratiklik sağlar"
   ]
  },
  {
   "cell_type": "code",
   "execution_count": 84,
   "id": "97d2c699",
   "metadata": {},
   "outputs": [],
   "source": [
    "multiplyLambda = lambda num : num * 3"
   ]
  },
  {
   "cell_type": "code",
   "execution_count": 86,
   "id": "c3895ecf",
   "metadata": {},
   "outputs": [
    {
     "data": {
      "text/plain": [
       "function"
      ]
     },
     "execution_count": 86,
     "metadata": {},
     "output_type": "execute_result"
    }
   ],
   "source": [
    "type(multiplyLambda)"
   ]
  },
  {
   "cell_type": "code",
   "execution_count": 87,
   "id": "86354585",
   "metadata": {},
   "outputs": [
    {
     "data": {
      "text/plain": [
       "60"
      ]
     },
     "execution_count": 87,
     "metadata": {},
     "output_type": "execute_result"
    }
   ],
   "source": [
    "multiplyLambda(20)"
   ]
  },
  {
   "cell_type": "code",
   "execution_count": 88,
   "id": "b2507f3b",
   "metadata": {},
   "outputs": [],
   "source": [
    "result=multiplyLambda(10)"
   ]
  },
  {
   "cell_type": "code",
   "execution_count": 89,
   "id": "cbe97b5d",
   "metadata": {},
   "outputs": [
    {
     "data": {
      "text/plain": [
       "30"
      ]
     },
     "execution_count": 89,
     "metadata": {},
     "output_type": "execute_result"
    }
   ],
   "source": [
    "result"
   ]
  },
  {
   "cell_type": "code",
   "execution_count": 90,
   "id": "734b3fdb",
   "metadata": {},
   "outputs": [],
   "source": [
    "numList = [10,20,30,40,50]"
   ]
  },
  {
   "cell_type": "code",
   "execution_count": 92,
   "id": "33eff16d",
   "metadata": {},
   "outputs": [
    {
     "data": {
      "text/plain": [
       "[2.5, 5.0, 7.5, 10.0, 12.5]"
      ]
     },
     "execution_count": 92,
     "metadata": {},
     "output_type": "execute_result"
    }
   ],
   "source": [
    "list(map(lambda num : num / 4 ,numList))\n",
    "#4'e bölmeyi başka yerde kullanmayacam için tanımalamak istemiyorum. lambda kolaylık sağlıyor"
   ]
  },
  {
   "cell_type": "markdown",
   "id": "faa2aeb8",
   "metadata": {},
   "source": [
    "# SCOPE"
   ]
  },
  {
   "cell_type": "code",
   "execution_count": 93,
   "id": "1ee49bb3",
   "metadata": {},
   "outputs": [],
   "source": [
    "x=20\n",
    "\n",
    "def multiply(num): \n",
    "    x = 5\n",
    "    return num * x"
   ]
  },
  {
   "cell_type": "code",
   "execution_count": 94,
   "id": "92e2eaa1",
   "metadata": {},
   "outputs": [
    {
     "data": {
      "text/plain": [
       "50"
      ]
     },
     "execution_count": 94,
     "metadata": {},
     "output_type": "execute_result"
    }
   ],
   "source": [
    "multiply(10)"
   ]
  },
  {
   "cell_type": "code",
   "execution_count": 95,
   "id": "5fc05005",
   "metadata": {},
   "outputs": [
    {
     "name": "stdout",
     "output_type": "stream",
     "text": [
      "20\n"
     ]
    }
   ],
   "source": [
    "print(x)"
   ]
  },
  {
   "cell_type": "code",
   "execution_count": 96,
   "id": "5077ebcb",
   "metadata": {},
   "outputs": [],
   "source": [
    "# ??????? x neden 20 oldu, fonksiyon içinde 5 atamıştık ???????"
   ]
  },
  {
   "cell_type": "code",
   "execution_count": 97,
   "id": "47444a27",
   "metadata": {},
   "outputs": [],
   "source": [
    "x=20\n",
    "\n",
    "def multiply(num): \n",
    "    x = 5\n",
    "    return num * x\n",
    "x=10"
   ]
  },
  {
   "cell_type": "code",
   "execution_count": 98,
   "id": "a815d812",
   "metadata": {},
   "outputs": [
    {
     "data": {
      "text/plain": [
       "10"
      ]
     },
     "execution_count": 98,
     "metadata": {},
     "output_type": "execute_result"
    }
   ],
   "source": [
    "x"
   ]
  },
  {
   "cell_type": "code",
   "execution_count": 100,
   "id": "dd34052a",
   "metadata": {},
   "outputs": [
    {
     "data": {
      "text/plain": [
       "15"
      ]
     },
     "execution_count": 100,
     "metadata": {},
     "output_type": "execute_result"
    }
   ],
   "source": [
    "multiply(3)"
   ]
  },
  {
   "cell_type": "code",
   "execution_count": 101,
   "id": "83a26ea7",
   "metadata": {},
   "outputs": [],
   "source": [
    "x=20\n",
    "\n",
    "def multiply(num): \n",
    "    return num * x"
   ]
  },
  {
   "cell_type": "code",
   "execution_count": 102,
   "id": "b48d71cf",
   "metadata": {},
   "outputs": [
    {
     "data": {
      "text/plain": [
       "200"
      ]
     },
     "execution_count": 102,
     "metadata": {},
     "output_type": "execute_result"
    }
   ],
   "source": [
    "multiply(10)"
   ]
  },
  {
   "cell_type": "code",
   "execution_count": 103,
   "id": "9a7ab718",
   "metadata": {},
   "outputs": [],
   "source": [
    "# python neye göre karar veriyor??"
   ]
  },
  {
   "cell_type": "markdown",
   "id": "ef1ea308",
   "metadata": {},
   "source": [
    "#  LEGB :karar verme mekanizması\n",
    "## L-> LOCAL\n",
    "## E-> ENCLOSING\n",
    "## G-> GLOBAL\n",
    "## B-> BUILT"
   ]
  },
  {
   "cell_type": "code",
   "execution_count": 118,
   "id": "0f7c1f76",
   "metadata": {},
   "outputs": [],
   "source": [
    "#global\n",
    "myString = \"ilo1\"\n",
    "\n",
    "def my_function():\n",
    "    #enclosing\n",
    "    myString = \"ilo2\"\n",
    "    print(myString)\n",
    "    \n",
    "    \n",
    "    def my_function2():\n",
    "        #local\n",
    "        myString = \"ilo3\"\n",
    "        print(myString)  \n",
    "    my_function2()"
   ]
  },
  {
   "cell_type": "code",
   "execution_count": 119,
   "id": "e7c99f9d",
   "metadata": {},
   "outputs": [
    {
     "name": "stdout",
     "output_type": "stream",
     "text": [
      "ilo1\n"
     ]
    }
   ],
   "source": [
    "print(myString)"
   ]
  },
  {
   "cell_type": "code",
   "execution_count": 120,
   "id": "427c8663",
   "metadata": {},
   "outputs": [
    {
     "name": "stdout",
     "output_type": "stream",
     "text": [
      "ilo2\n",
      "ilo3\n"
     ]
    }
   ],
   "source": [
    "my_function()"
   ]
  },
  {
   "cell_type": "code",
   "execution_count": 121,
   "id": "01a4bb44",
   "metadata": {},
   "outputs": [],
   "source": [
    "def test1():\n",
    "    myVariable = 10\n",
    "    print(myVariable * 2)"
   ]
  },
  {
   "cell_type": "code",
   "execution_count": 122,
   "id": "16ffdb87",
   "metadata": {},
   "outputs": [],
   "source": [
    "def test2():\n",
    "    print(myVariable * 3)"
   ]
  },
  {
   "cell_type": "code",
   "execution_count": 124,
   "id": "f2560efe",
   "metadata": {},
   "outputs": [],
   "source": [
    "# test2() -->> myVariable'ların kapsamları farklı. hata verir"
   ]
  },
  {
   "cell_type": "code",
   "execution_count": 125,
   "id": "f6f144e3",
   "metadata": {},
   "outputs": [],
   "source": [
    "myVariable = 10\n",
    "def test1():\n",
    "    print(myVariable * 2)\n",
    "def test2():\n",
    "    print(myVariable * 3)"
   ]
  },
  {
   "cell_type": "code",
   "execution_count": 126,
   "id": "cb8727f5",
   "metadata": {},
   "outputs": [
    {
     "name": "stdout",
     "output_type": "stream",
     "text": [
      "20\n"
     ]
    }
   ],
   "source": [
    "test1()"
   ]
  },
  {
   "cell_type": "code",
   "execution_count": 127,
   "id": "69aed332",
   "metadata": {},
   "outputs": [
    {
     "name": "stdout",
     "output_type": "stream",
     "text": [
      "30\n"
     ]
    }
   ],
   "source": [
    "test2()"
   ]
  },
  {
   "cell_type": "code",
   "execution_count": 128,
   "id": "4cdc21dd",
   "metadata": {},
   "outputs": [],
   "source": [
    "y=10\n",
    "def newFunction(y):\n",
    "    print(y)\n",
    "    y=5\n",
    "    print(y)\n",
    "    return y"
   ]
  },
  {
   "cell_type": "code",
   "execution_count": 129,
   "id": "3f620283",
   "metadata": {},
   "outputs": [
    {
     "name": "stdout",
     "output_type": "stream",
     "text": [
      "10\n",
      "5\n"
     ]
    },
    {
     "data": {
      "text/plain": [
       "5"
      ]
     },
     "execution_count": 129,
     "metadata": {},
     "output_type": "execute_result"
    }
   ],
   "source": [
    "newFunction(10)"
   ]
  },
  {
   "cell_type": "code",
   "execution_count": 130,
   "id": "71ff5b27",
   "metadata": {},
   "outputs": [
    {
     "data": {
      "text/plain": [
       "10"
      ]
     },
     "execution_count": 130,
     "metadata": {},
     "output_type": "execute_result"
    }
   ],
   "source": [
    "y"
   ]
  },
  {
   "cell_type": "code",
   "execution_count": 131,
   "id": "ea1e4f91",
   "metadata": {},
   "outputs": [],
   "source": [
    "y = 10\n",
    "\n",
    "def changeY():\n",
    "    global y #global olarak kullanılan y'yi kullanacam. yani y=10\n",
    "    y = 5\n",
    "    print(y)"
   ]
  },
  {
   "cell_type": "code",
   "execution_count": 132,
   "id": "e7052efb",
   "metadata": {},
   "outputs": [
    {
     "name": "stdout",
     "output_type": "stream",
     "text": [
      "5\n"
     ]
    }
   ],
   "source": [
    "changeY()"
   ]
  },
  {
   "cell_type": "code",
   "execution_count": 133,
   "id": "97edab75",
   "metadata": {},
   "outputs": [
    {
     "data": {
      "text/plain": [
       "5"
      ]
     },
     "execution_count": 133,
     "metadata": {},
     "output_type": "execute_result"
    }
   ],
   "source": [
    "y"
   ]
  },
  {
   "cell_type": "markdown",
   "id": "3d3438bc",
   "metadata": {},
   "source": [
    "##### python bir değişkeni tanımlamak için sırasıyla bunlara bakar:\n",
    "###### Local : en içte tanımlanan değişkenler\n",
    "###### Enclosing :iç içe fonksiyonlarda dış fonksiyonun iç blokta tanımlı değerleri\n",
    "###### Global : fonksiyon dışı\n",
    "###### Built :pythonun kendi tanımladığı değişkenler (ör: len() )\n"
   ]
  }
 ],
 "metadata": {
  "kernelspec": {
   "display_name": "Python 3",
   "language": "python",
   "name": "python3"
  },
  "language_info": {
   "codemirror_mode": {
    "name": "ipython",
    "version": 3
   },
   "file_extension": ".py",
   "mimetype": "text/x-python",
   "name": "python",
   "nbconvert_exporter": "python",
   "pygments_lexer": "ipython3",
   "version": "3.8.8"
  }
 },
 "nbformat": 4,
 "nbformat_minor": 5
}
