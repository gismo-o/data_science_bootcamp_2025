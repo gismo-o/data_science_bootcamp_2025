{
 "cells": [
  {
   "cell_type": "code",
   "execution_count": 1,
   "id": "97c34ef4",
   "metadata": {},
   "outputs": [
    {
     "name": "stdout",
     "output_type": "stream",
     "text": [
      "enter age: 26\n"
     ]
    }
   ],
   "source": [
    "age = input(\"enter age: \")"
   ]
  },
  {
   "cell_type": "code",
   "execution_count": 2,
   "id": "819c69da",
   "metadata": {},
   "outputs": [
    {
     "data": {
      "text/plain": [
       "'26'"
      ]
     },
     "execution_count": 2,
     "metadata": {},
     "output_type": "execute_result"
    }
   ],
   "source": [
    "age"
   ]
  },
  {
   "cell_type": "code",
   "execution_count": 3,
   "id": "c4402d66",
   "metadata": {},
   "outputs": [
    {
     "data": {
      "text/plain": [
       "52"
      ]
     },
     "execution_count": 3,
     "metadata": {},
     "output_type": "execute_result"
    }
   ],
   "source": [
    "int(age) *2"
   ]
  },
  {
   "cell_type": "code",
   "execution_count": 4,
   "id": "ec49f8b9",
   "metadata": {},
   "outputs": [],
   "source": [
    "# try - except"
   ]
  },
  {
   "cell_type": "code",
   "execution_count": 5,
   "id": "8ac2a385",
   "metadata": {},
   "outputs": [
    {
     "name": "stdout",
     "output_type": "stream",
     "text": [
      "enter age: gizem\n",
      "enter your age !!!!\n"
     ]
    }
   ],
   "source": [
    "try:\n",
    "    myAge = int(input(\"enter age: \"))\n",
    "    print(myAge * 2)\n",
    "except ValueError:\n",
    "    print(\"enter your age !!!!\")"
   ]
  },
  {
   "cell_type": "code",
   "execution_count": 7,
   "id": "234a9c3d",
   "metadata": {},
   "outputs": [
    {
     "name": "stdout",
     "output_type": "stream",
     "text": [
      "enter age: gizem\n",
      "enter your age!!!\n",
      "finally\n",
      "enter age: 26\n",
      "52\n",
      "finally\n"
     ]
    }
   ],
   "source": [
    "while True: #doğru olana kadar kodu çalıştırmaya devam et\n",
    "    try:\n",
    "        myAge = int(input(\"enter age: \"))\n",
    "        print(myAge * 2)\n",
    "        break #sonsuz döngüye girmesini engelledik\n",
    "    except:\n",
    "        print(\"enter your age!!!\")\n",
    "    else:\n",
    "        print(\"else executed\")\n",
    "    finally:  # HER ZAMAN ÇALIŞIR\n",
    "        print(\"finally\")"
   ]
  },
  {
   "cell_type": "code",
   "execution_count": 8,
   "id": "41095c14",
   "metadata": {},
   "outputs": [
    {
     "name": "stdout",
     "output_type": "stream",
     "text": [
      "enter age: gizem\n",
      "enter your age!!!\n",
      "finally\n",
      "enter age: 26\n",
      "52\n",
      "else executed\n",
      "finally\n"
     ]
    }
   ],
   "source": [
    "while True: #doğru olana kadar kodu çalıştırmaya devam et\n",
    "    try:\n",
    "        myAge = int(input(\"enter age: \"))\n",
    "        print(myAge * 2)\n",
    "    except:\n",
    "        print(\"enter your age!!!\")\n",
    "    else: #else'yi break'ı koymak için kullandık\n",
    "        print(\"else executed\")\n",
    "        break\n",
    "    finally:  # HER ZAMAN ÇALIŞIR\n",
    "        print(\"finally\")"
   ]
  }
 ],
 "metadata": {
  "kernelspec": {
   "display_name": "Python 3",
   "language": "python",
   "name": "python3"
  },
  "language_info": {
   "codemirror_mode": {
    "name": "ipython",
    "version": 3
   },
   "file_extension": ".py",
   "mimetype": "text/x-python",
   "name": "python",
   "nbconvert_exporter": "python",
   "pygments_lexer": "ipython3",
   "version": "3.8.8"
  }
 },
 "nbformat": 4,
 "nbformat_minor": 5
}
