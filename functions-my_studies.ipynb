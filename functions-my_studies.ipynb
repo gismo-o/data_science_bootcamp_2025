{
 "cells": [
  {
   "cell_type": "code",
   "execution_count": 1,
   "id": "880f054f",
   "metadata": {},
   "outputs": [],
   "source": [
    "def print_hello():\n",
    "    print(\"Hello World\")"
   ]
  },
  {
   "cell_type": "code",
   "execution_count": 2,
   "id": "f1f7ada5",
   "metadata": {},
   "outputs": [
    {
     "name": "stdout",
     "output_type": "stream",
     "text": [
      "Hello World\n"
     ]
    }
   ],
   "source": [
    "print_hello()"
   ]
  },
  {
   "cell_type": "code",
   "execution_count": 8,
   "id": "f8995bd9",
   "metadata": {},
   "outputs": [],
   "source": [
    "def greet(name):\n",
    "    print(\"isim: \"+name)"
   ]
  },
  {
   "cell_type": "code",
   "execution_count": 27,
   "id": "cd35a8d6",
   "metadata": {},
   "outputs": [
    {
     "name": "stdout",
     "output_type": "stream",
     "text": [
      "isim girinizgizem\n",
      "isim: gizem\n"
     ]
    }
   ],
   "source": [
    "greet(input(\"isim giriniz\"))"
   ]
  },
  {
   "cell_type": "code",
   "execution_count": 47,
   "id": "7a318840",
   "metadata": {},
   "outputs": [],
   "source": [
    "def check_string(s):\n",
    "    if s and s[0].lower() == \"a\":\n",
    "        print(\"baş harfi 'a'\")\n",
    "    else:\n",
    "        print(\"baş harfi 'a' değil\")"
   ]
  },
  {
   "cell_type": "code",
   "execution_count": 48,
   "id": "e9527a4f",
   "metadata": {},
   "outputs": [
    {
     "name": "stdout",
     "output_type": "stream",
     "text": [
      "string değer giriniz: selam\n",
      "baş harfi 'a' değil\n"
     ]
    }
   ],
   "source": [
    "check_string(input(\"string değer giriniz: \"))"
   ]
  },
  {
   "cell_type": "code",
   "execution_count": 59,
   "id": "d24eedf9",
   "metadata": {},
   "outputs": [],
   "source": [
    "def multiply_all(*args):\n",
    "    result=1\n",
    "    for num in args:\n",
    "        result= result * num\n",
    "    return result"
   ]
  },
  {
   "cell_type": "code",
   "execution_count": 61,
   "id": "89086fb8",
   "metadata": {},
   "outputs": [
    {
     "name": "stdout",
     "output_type": "stream",
     "text": [
      "1. sayıyı girin: 5\n",
      "2. sayıyı girin: 6\n",
      "3. sayıyı girin: 7\n",
      "4. sayıyı girin: 9\n",
      "5. sayıyı girin: 11\n"
     ]
    }
   ],
   "source": [
    "numbers=[]\n",
    "for i in range(5): #0'dan başlayıp 5'e kadar dizi oluşturur\n",
    "    user_input = int(input(f\"{i+1}. sayıyı girin: \"))\n",
    "    #f-string\n",
    "    #f harfi, Python’a bunun içinde değişken gömüleceğini (interpolation) söyler\n",
    "    #{} stringe çevirir\n",
    "    numbers.append(user_input)"
   ]
  },
  {
   "cell_type": "code",
   "execution_count": 62,
   "id": "39923d54",
   "metadata": {},
   "outputs": [
    {
     "name": "stdout",
     "output_type": "stream",
     "text": [
      "çarpım sonucu:  20790\n"
     ]
    }
   ],
   "source": [
    "result = multiply_all(*numbers)\n",
    "print(\"çarpım sonucu: \", result)"
   ]
  },
  {
   "cell_type": "code",
   "execution_count": 77,
   "id": "ba67cff4",
   "metadata": {},
   "outputs": [],
   "source": [
    "my_dict={}"
   ]
  },
  {
   "cell_type": "code",
   "execution_count": 78,
   "id": "b93aa56d",
   "metadata": {},
   "outputs": [],
   "source": [
    "def all_upper(**kwargs):\n",
    "    for words in kwargs:\n",
    "        upper_words=kwargs.upper()\n",
    "    return upper_words"
   ]
  },
  {
   "cell_type": "code",
   "execution_count": 81,
   "id": "4661088b",
   "metadata": {},
   "outputs": [
    {
     "name": "stdout",
     "output_type": "stream",
     "text": [
      "1. kelimeyi giriniz: selam\n",
      "2. kelimeyi giriniz: ben\n",
      "3. kelimeyi giriniz: gizem\n",
      "4. kelimeyi giriniz: nasılsın\n"
     ]
    }
   ],
   "source": [
    "for i in range(4):\n",
    "    user_input2=input(f\"{i+1}. kelimeyi giriniz: \")\n",
    "    my_dict[f\"kelime_{i+1}\"] = user_input2"
   ]
  },
  {
   "cell_type": "code",
   "execution_count": 82,
   "id": "5e0f6c4e",
   "metadata": {},
   "outputs": [
    {
     "data": {
      "text/plain": [
       "[2, 4, 6, 8, 10]"
      ]
     },
     "execution_count": 82,
     "metadata": {},
     "output_type": "execute_result"
    }
   ],
   "source": [
    "numbers = [1,2,3,4,5]\n",
    "list(map(lambda num : num * 2, numbers))"
   ]
  },
  {
   "cell_type": "code",
   "execution_count": 87,
   "id": "a1dd0c29",
   "metadata": {},
   "outputs": [
    {
     "data": {
      "text/plain": [
       "['PYTHON', 'CODE', 'LAMBDA', 'MAP']"
      ]
     },
     "execution_count": 87,
     "metadata": {},
     "output_type": "execute_result"
    }
   ],
   "source": [
    "words=[\"python\", \"code\", \"lambda\", \"map\"]\n",
    "list(map(str.upper,words))"
   ]
  },
  {
   "cell_type": "code",
   "execution_count": 97,
   "id": "0c7b6d19",
   "metadata": {},
   "outputs": [
    {
     "name": "stdout",
     "output_type": "stream",
     "text": [
      "[2, 4]\n"
     ]
    }
   ],
   "source": [
    "new_numbers = list(filter(lambda num: num %2 == 0, numbers))\n",
    "print(new_numbers)"
   ]
  },
  {
   "cell_type": "code",
   "execution_count": null,
   "id": "0a08a274",
   "metadata": {},
   "outputs": [],
   "source": []
  }
 ],
 "metadata": {
  "kernelspec": {
   "display_name": "Python 3.10",
   "language": "python",
   "name": "python310"
  },
  "language_info": {
   "codemirror_mode": {
    "name": "ipython",
    "version": 3
   },
   "file_extension": ".py",
   "mimetype": "text/x-python",
   "name": "python",
   "nbconvert_exporter": "python",
   "pygments_lexer": "ipython3",
   "version": "3.10.0"
  }
 },
 "nbformat": 4,
 "nbformat_minor": 5
}
